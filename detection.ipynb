{
 "cells": [
  {
   "cell_type": "markdown",
   "id": "91c7402b-10b5-47f4-bf58-051137c913e1",
   "metadata": {},
   "source": [
    "# Детекция лиц с использованием архитектуры VGG16\n",
    "\n",
    "# 1. Подготовка датасета\n",
    "В качестве датасета выбран датасет **VGG16** с большим количеством изображений и соотвествующих им координат прямоугольника лиц `(x, y, w, h)`."
   ]
  },
  {
   "cell_type": "markdown",
   "id": "ec659b28-0beb-41c6-b51d-e7f40f1b0231",
   "metadata": {},
   "source": [
    "## Подготовка аннотаций из датасета\n",
    "Сначала извлечем аннотации из датасета в формате `(путь_к_изображению, список_координат_лиц_изображения)`. Поскольку датасет большой, а обучать на сильно больших данных не можем ввиду слабого ПК без `GPU`, аннотации для тренировочних данных и для валидации будем брать из папки изображений с тренировочными данными."
   ]
  },
  {
   "cell_type": "code",
   "execution_count": 1,
   "id": "607ba66a-68e1-48b3-ab12-5ea60b1ccd5f",
   "metadata": {},
   "outputs": [],
   "source": [
    "from sklearn.model_selection import train_test_split\n",
    "import cv2\n",
    "import os"
   ]
  },
  {
   "cell_type": "code",
   "execution_count": 2,
   "id": "3c38b718-eb74-43ac-98a3-b18ebc73cb4a",
   "metadata": {},
   "outputs": [],
   "source": [
    "WIDER_FACE_PATH = \"C:/Users/PAVILION/Desktop/Coding/Datasets/wider_face/\"\n",
    "WITHOUT_FACE_PATH = \"C:/Users/PAVILION/Desktop/Coding/Datasets/random_img_without_face/\"\n",
    "DATASETS_PATH = \"C:/Users/PAVILION/Desktop/Coding/Datasets/\""
   ]
  },
  {
   "cell_type": "code",
   "execution_count": 3,
   "id": "ddf92752-c810-4bd5-9185-24199f8391c9",
   "metadata": {},
   "outputs": [],
   "source": [
    "def demonstrate(annots, n):\n",
    "    for i in range(n):\n",
    "        # Загружаем изображение\n",
    "        image = cv2.imread(DATASETS_PATH + annots[i][0])  # путь к файлу\n",
    "        \n",
    "        # Получаем размеры изображения\n",
    "        height, width = image.shape[:2]\n",
    "        \n",
    "        for rect in annots[i][1]:\n",
    "            # Рисуем прямоугольник (рамку)\n",
    "            # cv2.rectangle(изображение, (x1, y1), (x2, y2), (B, G, R), толщина)\n",
    "            x, y, w, h = rect\n",
    "            cv2.rectangle(image, (x, y), (x+w, y+h), (0, 255, 0), 3)\n",
    "        \n",
    "        # Выводим изображение\n",
    "        cv2.imshow(\"Image with Frame\", image)\n",
    "        cv2.waitKey(0)  # Ждём нажатия любой клавиши\n",
    "        cv2.destroyAllWindows()  # Закрываем окно"
   ]
  },
  {
   "cell_type": "code",
   "execution_count": 4,
   "id": "c66d5f62-8d81-4533-b371-bf53894d03dd",
   "metadata": {},
   "outputs": [],
   "source": [
    "all_annotations = []\n",
    "with open(WIDER_FACE_PATH + \"wider_face_split/wider_face_train_bbx_gt.txt\", 'r') as f:\n",
    "    lines = f.readlines()\n",
    "i = 0\n",
    "while i < len(lines):\n",
    "    img_name = \"wider_face/WIDER_train/images/\" + lines[i].strip()\n",
    "    i += 1\n",
    "    num_boxes = int(lines[i].strip())\n",
    "    i += 1\n",
    "    bboxes = []\n",
    "    for _ in range(num_boxes):\n",
    "        if i >= len(lines):\n",
    "            break\n",
    "        box_data = list(map(int, lines[i].strip().split()[:4]))\n",
    "        bboxes.append(box_data)\n",
    "        i += 1\n",
    "    # Фильтрация: отбираем изображения с одним лицом площадью > 2000 (w*h) и не относящееся к сложным темам \n",
    "    if len(bboxes) == 1 and bboxes != [[]] and\\\n",
    "         bboxes[0][2]*bboxes[0][3] > 1500 and\\\n",
    "         ('3--Riot' or '24--Soldier_Firing' or '25--Soldier_Patrol' or '26--Soldier_Drilling' or '27--Spa' or\\\n",
    "          '34--Baseball' or '36--Football' or '43--Row_Boat' or '52--Photographers' or '53--Raid' or '54--Rescue' or\\\n",
    "          '58--Hockey') not in img_name:\n",
    "        all_annotations.append((img_name, bboxes))"
   ]
  },
  {
   "cell_type": "code",
   "execution_count": 5,
   "id": "fa8d479f-e659-454d-b158-a8621af9d854",
   "metadata": {},
   "outputs": [
    {
     "data": {
      "text/plain": [
       "('wider_face/WIDER_train/images/0--Parade/0_Parade_marchingband_1_849.jpg',\n",
       " [[449, 330, 122, 149]])"
      ]
     },
     "execution_count": 5,
     "metadata": {},
     "output_type": "execute_result"
    }
   ],
   "source": [
    "all_annotations[0]"
   ]
  },
  {
   "cell_type": "code",
   "execution_count": 6,
   "id": "3ff46b8a-45cd-4642-9f82-4791e2ad33b0",
   "metadata": {},
   "outputs": [
    {
     "data": {
      "text/plain": [
       "4382"
      ]
     },
     "execution_count": 6,
     "metadata": {},
     "output_type": "execute_result"
    }
   ],
   "source": [
    "len(all_annotations)"
   ]
  },
  {
   "cell_type": "code",
   "execution_count": 7,
   "id": "e6d8bf19-280f-42d0-b5ef-7ad667b62a7c",
   "metadata": {},
   "outputs": [],
   "source": [
    "demonstrate(all_annotations, 3)"
   ]
  },
  {
   "cell_type": "markdown",
   "id": "cf714fc4-053a-472f-90d5-926ac71f67eb",
   "metadata": {},
   "source": [
    "Избавимся от нечетких лиц, обработав их с помощью OpenCV. Если OpenCV не найдет лицо, то меняем аннотацию, поставив [[0, 0, 0, 0]] вместо координат лица, неудобного для распознавания."
   ]
  },
  {
   "cell_type": "code",
   "execution_count": 8,
   "id": "00483566-c410-4d95-92bb-2e2dc49d348e",
   "metadata": {},
   "outputs": [],
   "source": [
    "face_cascade = cv2.CascadeClassifier(cv2.data.haarcascades + 'haarcascade_frontalface_default.xml')\n",
    "\n",
    "for i, (img_path, face_coords) in enumerate(all_annotations):\n",
    "    img = cv2.imread(DATASETS_PATH+img_path)\n",
    "\n",
    "    if img is None:\n",
    "        print(f\"Не удалось загрузить изображение: {img_path}\")\n",
    "        continue\n",
    "\n",
    "    gray = cv2.cvtColor(img, cv2.COLOR_BGR2GRAY)\n",
    "    faces = face_cascade.detectMultiScale(gray, scaleFactor=1.1, minNeighbors=5)\n",
    "\n",
    "    if len(faces) == 0:\n",
    "        all_annotations[i] = (img_path, [[0, 0, 0, 0]])"
   ]
  },
  {
   "cell_type": "code",
   "execution_count": 18,
   "id": "fcffb76f-2bc5-49f7-b525-81ae5ffbe95c",
   "metadata": {},
   "outputs": [
    {
     "data": {
      "text/plain": [
       "1076"
      ]
     },
     "execution_count": 18,
     "metadata": {},
     "output_type": "execute_result"
    }
   ],
   "source": [
    "len([annotation for annotation in all_annotations if annotation[1] == [[0, 0, 0, 0]]])"
   ]
  },
  {
   "cell_type": "markdown",
   "id": "84d7596e-659e-4694-ade0-74a631dc45ab",
   "metadata": {},
   "source": [
    "Добавление аннотаций изображений без лиц"
   ]
  },
  {
   "cell_type": "code",
   "execution_count": 19,
   "id": "5b445fb5-dd5c-447a-9706-ea45d5494f12",
   "metadata": {},
   "outputs": [],
   "source": [
    "for filename in os.listdir(WITHOUT_FACE_PATH):\n",
    "    img_name = os.path.join(\"random_img_without_face/\", filename)\n",
    "    all_annotations.append((img_name, [[0, 0, 0, 0]]))"
   ]
  },
  {
   "cell_type": "code",
   "execution_count": 20,
   "id": "8f3b8995-ecf6-44a9-b3aa-5713bae973a3",
   "metadata": {},
   "outputs": [
    {
     "data": {
      "text/plain": [
       "7346"
      ]
     },
     "execution_count": 20,
     "metadata": {},
     "output_type": "execute_result"
    }
   ],
   "source": [
    "len(all_annotations)"
   ]
  },
  {
   "cell_type": "code",
   "execution_count": 33,
   "id": "b6d91517-9d1c-493d-a957-d01960277435",
   "metadata": {},
   "outputs": [
    {
     "name": "stdout",
     "output_type": "stream",
     "text": [
      "Аннотаций изображений с лицами: 3306\n",
      "Аннотаций изображений без лиц: 4040\n"
     ]
    }
   ],
   "source": [
    "print('Аннотаций изображений с лицами:', len([annotation for annotation in all_annotations if annotation[1] != [[0, 0, 0, 0]]]))\n",
    "print('Аннотаций изображений без лиц:', len([annotation for annotation in all_annotations if annotation[1] == [[0, 0, 0, 0]]]))"
   ]
  },
  {
   "cell_type": "code",
   "execution_count": 38,
   "id": "6ede88fc-889a-4d43-afad-60c7705aaf80",
   "metadata": {},
   "outputs": [],
   "source": [
    "demonstrate(all_annotations, 10)"
   ]
  },
  {
   "cell_type": "markdown",
   "id": "fb11d497-c11b-474a-99d6-3b33865ca674",
   "metadata": {},
   "source": [
    "Сохраним наши аннотации в `json`"
   ]
  },
  {
   "cell_type": "code",
   "execution_count": 21,
   "id": "b6054715-f635-4026-a237-15aca3b76373",
   "metadata": {},
   "outputs": [],
   "source": [
    "import json\n",
    "json_ready = [[path, coords] for (path, coords) in all_annotations]\n",
    "with open(\"annotations.json\", \"w\", encoding=\"utf-8\") as f:\n",
    "    json.dump(json_ready, f, ensure_ascii=False, indent=2)"
   ]
  },
  {
   "cell_type": "markdown",
   "id": "7e9aa6f7-5f7c-47e5-b32b-f637b0173326",
   "metadata": {},
   "source": [
    "## Аугментируем данные"
   ]
  },
  {
   "cell_type": "code",
   "execution_count": 61,
   "id": "3ff32ca7-389e-4b87-a1d3-0ad1b4a3dd21",
   "metadata": {},
   "outputs": [],
   "source": [
    "import numpy as np\n",
    "import random\n",
    "from PIL import Image\n",
    "\n",
    "def augment_image_and_bbox(image, bbox, transformations):\n",
    "    img = image.copy()\n",
    "    x, y, w, h = bbox\n",
    "\n",
    "    # bbox_np в формате [x_min, y_min, x_max, y_max]\n",
    "    bbox_np = np.array([x, y, x + w, y + h], dtype=np.float32)\n",
    "\n",
    "    for transform_name in transformations:\n",
    "        current_img_width, current_img_height = img.size\n",
    "\n",
    "        if transform_name == 'flip_horizontal':\n",
    "            img = img.transpose(Image.FLIP_LEFT_RIGHT)\n",
    "\n",
    "            old_x_min, old_y_min, old_x_max, old_y_max = bbox_np\n",
    "            bbox_np[0] = current_img_width - old_x_max\n",
    "            bbox_np[2] = current_img_width - old_x_min\n",
    "\n",
    "        elif transform_name == 'translate_small':\n",
    "            pass\n",
    "                # dx = random.uniform(-0.05, 0.05) * current_img_width\n",
    "                # dy = random.uniform(-0.05, 0.05) * current_img_height\n",
    "\n",
    "                # # Apply the transformation to the image\n",
    "                # # PIL transform will clip the image if it goes out of bounds\n",
    "                # img = img.transform(\n",
    "                #     img.size,\n",
    "                #     Image.AFFINE,\n",
    "                #     (1, 0, dx, 0, 1, dy),\n",
    "                #     fillcolor=0 # Важно: заполнять черным цветом (или другим, если фон)\n",
    "                # )\n",
    "\n",
    "                # # Translate bounding box coordinates mathematically\n",
    "                # translated_bbox_np = bbox_np.copy() # Make a copy to avoid modifying original bbox_np prematurely\n",
    "                # translated_bbox_np[0] += dx\n",
    "                # translated_bbox_np[1] += dy\n",
    "                # translated_bbox_np[2] += dx\n",
    "                # translated_bbox_np[3] += dy\n",
    "\n",
    "                # # Clip the translated bounding box to the current (and now potentially clipped) image dimensions\n",
    "                # # This is crucial because the image itself has been clipped by img.transform\n",
    "                # new_x_min = max(0, translated_bbox_np[0])\n",
    "                # new_y_min = max(0, translated_bbox_np[1])\n",
    "                # new_x_max = min(current_img_width, translated_bbox_np[2])\n",
    "                # new_y_max = min(current_img_height, translated_bbox_np[3])\n",
    "\n",
    "                # # Update bbox_np with the clipped values\n",
    "                # bbox_np = np.array([new_x_min, new_y_min, new_x_max, new_y_max], dtype=np.float32)\n",
    "\n",
    "                # # If the bounding box becomes invalid (e.g., completely out of bounds), set it to [0,0,0,0]\n",
    "                # if bbox_np[0] >= bbox_np[2] or bbox_np[1] >= bbox_np[3]:\n",
    "                #     bbox_np = np.array([0, 0, 0, 0], dtype=np.float32)\n",
    "\n",
    "        elif transform_name == 'scale_small':\n",
    "            scale_factor = random.uniform(0.9, 1.1)\n",
    "            new_width = int(current_img_width * scale_factor)\n",
    "            new_height = int(current_img_height * scale_factor)\n",
    "\n",
    "            if new_width > 0 and new_height > 0:\n",
    "                img = img.resize((new_width, new_height), Image.BICUBIC)\n",
    "                bbox_np *= scale_factor\n",
    "            else:\n",
    "                bbox_np = np.array([0, 0, 0, 0], dtype=np.float32)\n",
    "                break # Exit if image becomes invalid\n",
    "\n",
    "    # Final clipping and conversion to [x, y, w, h] format\n",
    "    final_img_width, final_img_height = img.size\n",
    "\n",
    "    new_x_min = round(bbox_np[0])\n",
    "    new_y_min = round(bbox_np[1])\n",
    "    new_x_max = round(bbox_np[2])\n",
    "    new_y_max = round(bbox_np[3])\n",
    "\n",
    "    # Final clipping (redundant for translate, but good for general safety)\n",
    "    new_x_min = max(0, min(new_x_min, final_img_width))\n",
    "    new_y_min = max(0, min(new_y_min, final_img_height))\n",
    "    new_x_max = max(0, min(new_x_max, final_img_width))\n",
    "    new_y_max = max(0, min(new_y_max, final_img_height))\n",
    "\n",
    "    new_w = max(0, new_x_max - new_x_min)\n",
    "    new_h = max(0, new_y_max - new_y_min)\n",
    "\n",
    "    new_x = new_x_min\n",
    "    new_y = new_y_min\n",
    "\n",
    "    return img, [new_x, new_y, new_w, new_h]"
   ]
  },
  {
   "cell_type": "code",
   "execution_count": 62,
   "id": "dfcd6b93-5297-4bd7-828b-5a15749e836a",
   "metadata": {},
   "outputs": [],
   "source": [
    "import random\n",
    "import numpy as np\n",
    "\n",
    "def augment_face_data_with_transforms(all_annotations, output_base_dir=DATASETS_PATH+\"augment_images_transformed\"):\n",
    "    os.makedirs(output_base_dir, exist_ok=True)\n",
    "    augmented_annotations = []\n",
    "    image_counter = 0\n",
    "    common_transformations = ['flip_horizontal', 'translate_small', 'scale_small']\n",
    "\n",
    "    for original_image_path, original_bbox_list in all_annotations:\n",
    "        if not original_bbox_list:\n",
    "            print(f\"Предупреждение: Пропускаем изображение {original_image_path} из-за отсутствия bbox.\")\n",
    "            continue\n",
    "\n",
    "        bbox = original_bbox_list[0]\n",
    "\n",
    "        try:\n",
    "            full_image_path = os.path.join(DATASETS_PATH, original_image_path)\n",
    "            original_image = Image.open(full_image_path).convert(\"RGB\")\n",
    "        except FileNotFoundError:\n",
    "            print(f\"Ошибка: Файл не найден по пути {full_image_path}. Пропускаем.\")\n",
    "            continue\n",
    "        except Exception as e:\n",
    "            print(f\"Ошибка при открытии изображения {full_image_path}: {e}. Пропускаем.\")\n",
    "            continue\n",
    "\n",
    "        num_transforms = random.randint(0, len(common_transformations))\n",
    "        selected_transforms = random.sample(common_transformations, num_transforms)\n",
    "\n",
    "        augmented_img, augmented_bbox = augment_image_and_bbox(original_image, bbox, selected_transforms)\n",
    "\n",
    "        new_image_filename = f\"aug_{image_counter:05d}_{os.path.basename(original_image_path)}\"\n",
    "        destination_image_path = os.path.join(output_base_dir, new_image_filename)\n",
    "\n",
    "        augmented_img.save(destination_image_path)\n",
    "        augmented_annotations.append((os.path.basename(output_base_dir) + \"/\" + new_image_filename, [augmented_bbox]))\n",
    "        image_counter += 1\n",
    "\n",
    "    annotations_path = os.path.join(output_base_dir, \"augmented_annotations.txt\")\n",
    "    with open(annotations_path, \"w\") as f:\n",
    "        for img_path_relative, bboxes in augmented_annotations:\n",
    "            f.write(f\"{img_path_relative} {bboxes[0][0]} {bboxes[0][1]} {bboxes[0][2]} {bboxes[0][3]}\\n\")\n",
    "\n",
    "    print(f\"Аугментация завершена. Изображения сохранены в '{output_base_dir}'.\")\n",
    "    print(f\"Аугментированные аннотации — в '{annotations_path}'.\")\n",
    "    return augmented_annotations"
   ]
  },
  {
   "cell_type": "code",
   "execution_count": 63,
   "id": "3795b645-61dd-4ee5-b363-e1b2b95cd229",
   "metadata": {},
   "outputs": [
    {
     "name": "stdout",
     "output_type": "stream",
     "text": [
      "Аугментация завершена. Изображения сохранены в 'C:/Users/PAVILION/Desktop/Coding/Datasets/augment_images_transformed'.\n",
      "Аугментированные аннотации — в 'C:/Users/PAVILION/Desktop/Coding/Datasets/augment_images_transformed\\augmented_annotations.txt'.\n"
     ]
    }
   ],
   "source": [
    "augmented_data_transformed = augment_face_data_with_transforms(all_annotations)"
   ]
  },
  {
   "cell_type": "code",
   "execution_count": 64,
   "id": "59411da9-77ef-487f-926e-5f7e4869df11",
   "metadata": {},
   "outputs": [
    {
     "data": {
      "text/plain": [
       "('augment_images_transformed/aug_00000_0_Parade_marchingband_1_849.jpg',\n",
       " [[471, 346, 127, 156]])"
      ]
     },
     "execution_count": 64,
     "metadata": {},
     "output_type": "execute_result"
    }
   ],
   "source": [
    "augmented_data_transformed[0]"
   ]
  },
  {
   "cell_type": "code",
   "execution_count": 65,
   "id": "d115d6e1-7a8a-413a-8c94-e0ad275b1a02",
   "metadata": {},
   "outputs": [],
   "source": [
    "demonstrate(augmented_data_transformed, 10)"
   ]
  },
  {
   "cell_type": "code",
   "execution_count": 66,
   "id": "83200459-8d23-4b05-be6f-0589b368cc14",
   "metadata": {},
   "outputs": [
    {
     "data": {
      "text/plain": [
       "7346"
      ]
     },
     "execution_count": 66,
     "metadata": {},
     "output_type": "execute_result"
    }
   ],
   "source": [
    "len(augmented_data_transformed)"
   ]
  },
  {
   "cell_type": "code",
   "execution_count": 67,
   "id": "e6262c27-a463-42d9-af1d-b7014d00b994",
   "metadata": {},
   "outputs": [],
   "source": [
    "# Разделение на train/val\n",
    "train_annots, val_annots = train_test_split(augmented_data_transformed, test_size=0.3, random_state=42)"
   ]
  },
  {
   "cell_type": "markdown",
   "id": "97698d96-6b1c-4a7c-bf1a-f2a8a1149264",
   "metadata": {},
   "source": [
    "## Подготовка данных для обучения\n",
    "Сначала импортируем библиотеки для работы с изображениями."
   ]
  },
  {
   "cell_type": "code",
   "execution_count": 68,
   "id": "b3bae814-a1e7-42da-980c-ab004b744898",
   "metadata": {},
   "outputs": [],
   "source": [
    "from tensorflow.keras.preprocessing.image import img_to_array, load_img"
   ]
  },
  {
   "cell_type": "markdown",
   "id": "ca5d5e83-632a-423d-b3e8-03ffe04dae51",
   "metadata": {},
   "source": [
    "Чтобы подготовить данные для обучения нейросети, извлечем по отдельности изображения для тренировки и валидации, координаты лиц для изображений и классовую метку о наличие лица на изображении (`train_images`, `train_bboxes`, `train_labels` и  `val_images`, `val_bboxes`, `val_labels`).\n",
    "\n",
    "1. Загрузим изображение\n",
    "2. Изменим размер изображения до стандартного (224x224)\n",
    "3. Нормализуем значения пикселей\n",
    "4. Нормализуем координаты ограничивающих прямоугольников (из пикселей в относительные значения от 0 до 1)."
   ]
  },
  {
   "cell_type": "code",
   "execution_count": 69,
   "id": "78f7c246-3fe4-4387-b849-292dcc57c5f9",
   "metadata": {},
   "outputs": [],
   "source": [
    "# Размер изображения для VGG16\n",
    "IMG_HEIGHT, IMG_WIDTH = 224, 224"
   ]
  },
  {
   "cell_type": "code",
   "execution_count": 70,
   "id": "25a83fc0-f9c2-4d8e-9361-596269f7bc70",
   "metadata": {},
   "outputs": [],
   "source": [
    "def preprocess_data(annotation_list, target_size=(IMG_HEIGHT, IMG_WIDTH)):\n",
    "    images = []\n",
    "    bboxes = []\n",
    "    labels = []\n",
    "\n",
    "    for img_path, annots in annotation_list:\n",
    "        full_path_to_img = DATASETS_PATH + img_path\n",
    "        \n",
    "        try:\n",
    "            with Image.open(full_path_to_img) as original_pil_img:\n",
    "                original_width, original_height = original_pil_img.size\n",
    "\n",
    "            img = load_img(full_path_to_img, target_size=target_size)\n",
    "            img = img_to_array(img) / 255.0\n",
    "            images.append(img)\n",
    "\n",
    "            bbox = annots[0]\n",
    "            x, y, w, h = bbox\n",
    "\n",
    "            x_min_abs = x\n",
    "            y_min_abs = y\n",
    "            x_max_abs = x + w\n",
    "            y_max_abs = y + h\n",
    "            \n",
    "            norm_x_min = x_min_abs / original_width\n",
    "            norm_y_min = y_min_abs / original_height\n",
    "            norm_x_max = x_max_abs / original_width\n",
    "            norm_y_max = y_max_abs / original_height\n",
    "            \n",
    "            bboxes.append([norm_x_min, norm_y_min, norm_x_max, norm_y_max])\n",
    "            \n",
    "            if bbox != [0, 0, 0, 0]:\n",
    "                labels.append(1)\n",
    "            else:\n",
    "                labels.append(0)\n",
    "\n",
    "        except FileNotFoundError:\n",
    "            print(f\"Ошибка: Файл не найден по пути {full_path_to_img}. Пропускаем.\")\n",
    "            continue\n",
    "        except Exception as e:\n",
    "            print(f\"Ошибка при открытии изображения {full_path_to_img}: {e}. Пропускаем.\")\n",
    "            continue\n",
    "\n",
    "    return np.array(images), np.array(bboxes), np.array(labels)"
   ]
  },
  {
   "cell_type": "code",
   "execution_count": 71,
   "id": "00a8c2bd-33dd-4319-a0d7-0ea57c1b973e",
   "metadata": {},
   "outputs": [
    {
     "name": "stdout",
     "output_type": "stream",
     "text": [
      "Обработка тренировочных данных...\n",
      "Размер тренировочных изображений: (5142, 224, 224, 3)\n",
      "Размер тренировочных bbox: (5142, 4)\n",
      "Размер тренировочных меток: (5142,)\n"
     ]
    }
   ],
   "source": [
    "print(\"Обработка тренировочных данных...\")\n",
    "train_images, train_bboxes, train_labels = preprocess_data(train_annots)\n",
    "\n",
    "print(f\"Размер тренировочных изображений: {train_images.shape}\")\n",
    "print(f\"Размер тренировочных bbox: {train_bboxes.shape}\")\n",
    "print(f\"Размер тренировочных меток: {train_labels.shape}\")"
   ]
  },
  {
   "cell_type": "code",
   "execution_count": 72,
   "id": "0fb89a48-41b3-41ba-8568-db32e75f94c1",
   "metadata": {},
   "outputs": [
    {
     "name": "stdout",
     "output_type": "stream",
     "text": [
      "Обработка валидационных данных...\n",
      "Размер валидационных изображений: (2204, 224, 224, 3)\n"
     ]
    }
   ],
   "source": [
    "print(\"Обработка валидационных данных...\")\n",
    "val_images, val_bboxes, val_labels = preprocess_data(val_annots)\n",
    "\n",
    "print(f\"Размер валидационных изображений: {val_images.shape}\")"
   ]
  },
  {
   "cell_type": "code",
   "execution_count": 73,
   "id": "34c845b3-6f2c-4298-ab48-8914953d6aeb",
   "metadata": {},
   "outputs": [
    {
     "name": "stdout",
     "output_type": "stream",
     "text": [
      "Количество пустых изображений в train:  1502\n",
      "Количество пустых изображений в val:  595\n"
     ]
    }
   ],
   "source": [
    "print('Количество пустых изображений в train: ', len(train_labels[train_labels == 0]))\n",
    "print('Количество пустых изображений в val: ', len(val_labels[val_labels == 0]))"
   ]
  },
  {
   "cell_type": "code",
   "execution_count": 74,
   "id": "5ef120ad-a23d-4ae2-9716-5f8fa3e4003b",
   "metadata": {},
   "outputs": [],
   "source": [
    "def show_images_with_bboxes_opencv(images, bboxes, labels=None, num=5):\n",
    "    for i in range(num):\n",
    "        img = images[i].copy()  # копируем, чтобы не изменять исходное\n",
    "        bbox = bboxes[i]\n",
    "        \n",
    "        h, w = img.shape[:2]\n",
    "        x1, y1, x2, y2 = bbox\n",
    "        # преобразуем нормализованные координаты в пиксели\n",
    "        pt1 = (int(x1 * w), int(y1 * h))\n",
    "        pt2 = (int(x2 * w), int(y2 * h))\n",
    "        \n",
    "        # Преобразуем изображение из float32 (0..1) в uint8 (0..255)\n",
    "        img_show = (img * 255).astype(np.uint8)\n",
    "        img_show = cv2.cvtColor(img_show, cv2.COLOR_RGB2BGR)  # RGB -> BGR для OpenCV\n",
    "        \n",
    "        # Рисуем прямоугольник\n",
    "        cv2.rectangle(img_show, pt1, pt2, color=(0, 0, 255), thickness=2)\n",
    "        \n",
    "        # Если есть метки, выводим их на изображение\n",
    "        if labels is not None:\n",
    "            label = str(labels[i])\n",
    "            cv2.putText(img_show, label, (pt1[0], pt1[1]-10),\n",
    "                        cv2.FONT_HERSHEY_SIMPLEX, 0.7, (0,255,0), 2)\n",
    "        \n",
    "        # Показываем изображение в окне\n",
    "        cv2.imshow(f'Image {i+1}', img_show)\n",
    "        cv2.waitKey(0)  # ждем нажатия любой клавиши\n",
    "        cv2.destroyAllWindows()"
   ]
  },
  {
   "cell_type": "code",
   "execution_count": 76,
   "id": "f82028ea-635f-4d34-bb0d-07e3c8b89e60",
   "metadata": {},
   "outputs": [],
   "source": [
    "show_images_with_bboxes_opencv(train_images, train_bboxes, train_labels, num=10)"
   ]
  },
  {
   "cell_type": "markdown",
   "id": "cfedd9a5-d73c-4f88-8e2e-432060c2a315",
   "metadata": {},
   "source": [
    "# 2. Проектирование и обучение модели\n",
    "Для построение модели будем использовать архитектуру VGG16, но VGG16 - это классификационная модель. Ее можно использовать как основу для создания модели детекции, используя ее как экстрактор признаков.\n",
    "\n",
    "В сверточной голове реализуем предсказание 4-х координат одного лица и вероятность наличия лица."
   ]
  },
  {
   "cell_type": "markdown",
   "id": "8919f26c-4544-4561-8a83-9a3e211c233a",
   "metadata": {},
   "source": [
    "## Создание модели"
   ]
  },
  {
   "cell_type": "code",
   "execution_count": 109,
   "id": "cd4574d2-7ada-4a07-bcaa-90518c5416eb",
   "metadata": {},
   "outputs": [],
   "source": [
    "from tensorflow.keras.models import Model\n",
    "from tensorflow.keras.layers import Input, Conv2D, Dense, GlobalMaxPooling2D, GlobalAveragePooling2D\n",
    "from tensorflow.keras.applications import VGG16"
   ]
  },
  {
   "cell_type": "code",
   "execution_count": 110,
   "id": "f3ff4086-2096-4e2b-9c5c-3e6c98d5b2c4",
   "metadata": {},
   "outputs": [
    {
     "data": {
      "text/html": [
       "<pre style=\"white-space:pre;overflow-x:auto;line-height:normal;font-family:Menlo,'DejaVu Sans Mono',consolas,'Courier New',monospace\"><span style=\"font-weight: bold\">Model: \"vgg16\"</span>\n",
       "</pre>\n"
      ],
      "text/plain": [
       "\u001b[1mModel: \"vgg16\"\u001b[0m\n"
      ]
     },
     "metadata": {},
     "output_type": "display_data"
    },
    {
     "data": {
      "text/html": [
       "<pre style=\"white-space:pre;overflow-x:auto;line-height:normal;font-family:Menlo,'DejaVu Sans Mono',consolas,'Courier New',monospace\">┏━━━━━━━━━━━━━━━━━━━━━━━━━━━━━━━━━━━━━━┳━━━━━━━━━━━━━━━━━━━━━━━━━━━━━┳━━━━━━━━━━━━━━━━━┓\n",
       "┃<span style=\"font-weight: bold\"> Layer (type)                         </span>┃<span style=\"font-weight: bold\"> Output Shape                </span>┃<span style=\"font-weight: bold\">         Param # </span>┃\n",
       "┡━━━━━━━━━━━━━━━━━━━━━━━━━━━━━━━━━━━━━━╇━━━━━━━━━━━━━━━━━━━━━━━━━━━━━╇━━━━━━━━━━━━━━━━━┩\n",
       "│ input_layer_4 (<span style=\"color: #0087ff; text-decoration-color: #0087ff\">InputLayer</span>)           │ (<span style=\"color: #00d7ff; text-decoration-color: #00d7ff\">None</span>, <span style=\"color: #00af00; text-decoration-color: #00af00\">224</span>, <span style=\"color: #00af00; text-decoration-color: #00af00\">224</span>, <span style=\"color: #00af00; text-decoration-color: #00af00\">3</span>)         │               <span style=\"color: #00af00; text-decoration-color: #00af00\">0</span> │\n",
       "├──────────────────────────────────────┼─────────────────────────────┼─────────────────┤\n",
       "│ block1_conv1 (<span style=\"color: #0087ff; text-decoration-color: #0087ff\">Conv2D</span>)                │ (<span style=\"color: #00d7ff; text-decoration-color: #00d7ff\">None</span>, <span style=\"color: #00af00; text-decoration-color: #00af00\">224</span>, <span style=\"color: #00af00; text-decoration-color: #00af00\">224</span>, <span style=\"color: #00af00; text-decoration-color: #00af00\">64</span>)        │           <span style=\"color: #00af00; text-decoration-color: #00af00\">1,792</span> │\n",
       "├──────────────────────────────────────┼─────────────────────────────┼─────────────────┤\n",
       "│ block1_conv2 (<span style=\"color: #0087ff; text-decoration-color: #0087ff\">Conv2D</span>)                │ (<span style=\"color: #00d7ff; text-decoration-color: #00d7ff\">None</span>, <span style=\"color: #00af00; text-decoration-color: #00af00\">224</span>, <span style=\"color: #00af00; text-decoration-color: #00af00\">224</span>, <span style=\"color: #00af00; text-decoration-color: #00af00\">64</span>)        │          <span style=\"color: #00af00; text-decoration-color: #00af00\">36,928</span> │\n",
       "├──────────────────────────────────────┼─────────────────────────────┼─────────────────┤\n",
       "│ block1_pool (<span style=\"color: #0087ff; text-decoration-color: #0087ff\">MaxPooling2D</span>)           │ (<span style=\"color: #00d7ff; text-decoration-color: #00d7ff\">None</span>, <span style=\"color: #00af00; text-decoration-color: #00af00\">112</span>, <span style=\"color: #00af00; text-decoration-color: #00af00\">112</span>, <span style=\"color: #00af00; text-decoration-color: #00af00\">64</span>)        │               <span style=\"color: #00af00; text-decoration-color: #00af00\">0</span> │\n",
       "├──────────────────────────────────────┼─────────────────────────────┼─────────────────┤\n",
       "│ block2_conv1 (<span style=\"color: #0087ff; text-decoration-color: #0087ff\">Conv2D</span>)                │ (<span style=\"color: #00d7ff; text-decoration-color: #00d7ff\">None</span>, <span style=\"color: #00af00; text-decoration-color: #00af00\">112</span>, <span style=\"color: #00af00; text-decoration-color: #00af00\">112</span>, <span style=\"color: #00af00; text-decoration-color: #00af00\">128</span>)       │          <span style=\"color: #00af00; text-decoration-color: #00af00\">73,856</span> │\n",
       "├──────────────────────────────────────┼─────────────────────────────┼─────────────────┤\n",
       "│ block2_conv2 (<span style=\"color: #0087ff; text-decoration-color: #0087ff\">Conv2D</span>)                │ (<span style=\"color: #00d7ff; text-decoration-color: #00d7ff\">None</span>, <span style=\"color: #00af00; text-decoration-color: #00af00\">112</span>, <span style=\"color: #00af00; text-decoration-color: #00af00\">112</span>, <span style=\"color: #00af00; text-decoration-color: #00af00\">128</span>)       │         <span style=\"color: #00af00; text-decoration-color: #00af00\">147,584</span> │\n",
       "├──────────────────────────────────────┼─────────────────────────────┼─────────────────┤\n",
       "│ block2_pool (<span style=\"color: #0087ff; text-decoration-color: #0087ff\">MaxPooling2D</span>)           │ (<span style=\"color: #00d7ff; text-decoration-color: #00d7ff\">None</span>, <span style=\"color: #00af00; text-decoration-color: #00af00\">56</span>, <span style=\"color: #00af00; text-decoration-color: #00af00\">56</span>, <span style=\"color: #00af00; text-decoration-color: #00af00\">128</span>)         │               <span style=\"color: #00af00; text-decoration-color: #00af00\">0</span> │\n",
       "├──────────────────────────────────────┼─────────────────────────────┼─────────────────┤\n",
       "│ block3_conv1 (<span style=\"color: #0087ff; text-decoration-color: #0087ff\">Conv2D</span>)                │ (<span style=\"color: #00d7ff; text-decoration-color: #00d7ff\">None</span>, <span style=\"color: #00af00; text-decoration-color: #00af00\">56</span>, <span style=\"color: #00af00; text-decoration-color: #00af00\">56</span>, <span style=\"color: #00af00; text-decoration-color: #00af00\">256</span>)         │         <span style=\"color: #00af00; text-decoration-color: #00af00\">295,168</span> │\n",
       "├──────────────────────────────────────┼─────────────────────────────┼─────────────────┤\n",
       "│ block3_conv2 (<span style=\"color: #0087ff; text-decoration-color: #0087ff\">Conv2D</span>)                │ (<span style=\"color: #00d7ff; text-decoration-color: #00d7ff\">None</span>, <span style=\"color: #00af00; text-decoration-color: #00af00\">56</span>, <span style=\"color: #00af00; text-decoration-color: #00af00\">56</span>, <span style=\"color: #00af00; text-decoration-color: #00af00\">256</span>)         │         <span style=\"color: #00af00; text-decoration-color: #00af00\">590,080</span> │\n",
       "├──────────────────────────────────────┼─────────────────────────────┼─────────────────┤\n",
       "│ block3_conv3 (<span style=\"color: #0087ff; text-decoration-color: #0087ff\">Conv2D</span>)                │ (<span style=\"color: #00d7ff; text-decoration-color: #00d7ff\">None</span>, <span style=\"color: #00af00; text-decoration-color: #00af00\">56</span>, <span style=\"color: #00af00; text-decoration-color: #00af00\">56</span>, <span style=\"color: #00af00; text-decoration-color: #00af00\">256</span>)         │         <span style=\"color: #00af00; text-decoration-color: #00af00\">590,080</span> │\n",
       "├──────────────────────────────────────┼─────────────────────────────┼─────────────────┤\n",
       "│ block3_pool (<span style=\"color: #0087ff; text-decoration-color: #0087ff\">MaxPooling2D</span>)           │ (<span style=\"color: #00d7ff; text-decoration-color: #00d7ff\">None</span>, <span style=\"color: #00af00; text-decoration-color: #00af00\">28</span>, <span style=\"color: #00af00; text-decoration-color: #00af00\">28</span>, <span style=\"color: #00af00; text-decoration-color: #00af00\">256</span>)         │               <span style=\"color: #00af00; text-decoration-color: #00af00\">0</span> │\n",
       "├──────────────────────────────────────┼─────────────────────────────┼─────────────────┤\n",
       "│ block4_conv1 (<span style=\"color: #0087ff; text-decoration-color: #0087ff\">Conv2D</span>)                │ (<span style=\"color: #00d7ff; text-decoration-color: #00d7ff\">None</span>, <span style=\"color: #00af00; text-decoration-color: #00af00\">28</span>, <span style=\"color: #00af00; text-decoration-color: #00af00\">28</span>, <span style=\"color: #00af00; text-decoration-color: #00af00\">512</span>)         │       <span style=\"color: #00af00; text-decoration-color: #00af00\">1,180,160</span> │\n",
       "├──────────────────────────────────────┼─────────────────────────────┼─────────────────┤\n",
       "│ block4_conv2 (<span style=\"color: #0087ff; text-decoration-color: #0087ff\">Conv2D</span>)                │ (<span style=\"color: #00d7ff; text-decoration-color: #00d7ff\">None</span>, <span style=\"color: #00af00; text-decoration-color: #00af00\">28</span>, <span style=\"color: #00af00; text-decoration-color: #00af00\">28</span>, <span style=\"color: #00af00; text-decoration-color: #00af00\">512</span>)         │       <span style=\"color: #00af00; text-decoration-color: #00af00\">2,359,808</span> │\n",
       "├──────────────────────────────────────┼─────────────────────────────┼─────────────────┤\n",
       "│ block4_conv3 (<span style=\"color: #0087ff; text-decoration-color: #0087ff\">Conv2D</span>)                │ (<span style=\"color: #00d7ff; text-decoration-color: #00d7ff\">None</span>, <span style=\"color: #00af00; text-decoration-color: #00af00\">28</span>, <span style=\"color: #00af00; text-decoration-color: #00af00\">28</span>, <span style=\"color: #00af00; text-decoration-color: #00af00\">512</span>)         │       <span style=\"color: #00af00; text-decoration-color: #00af00\">2,359,808</span> │\n",
       "├──────────────────────────────────────┼─────────────────────────────┼─────────────────┤\n",
       "│ block4_pool (<span style=\"color: #0087ff; text-decoration-color: #0087ff\">MaxPooling2D</span>)           │ (<span style=\"color: #00d7ff; text-decoration-color: #00d7ff\">None</span>, <span style=\"color: #00af00; text-decoration-color: #00af00\">14</span>, <span style=\"color: #00af00; text-decoration-color: #00af00\">14</span>, <span style=\"color: #00af00; text-decoration-color: #00af00\">512</span>)         │               <span style=\"color: #00af00; text-decoration-color: #00af00\">0</span> │\n",
       "├──────────────────────────────────────┼─────────────────────────────┼─────────────────┤\n",
       "│ block5_conv1 (<span style=\"color: #0087ff; text-decoration-color: #0087ff\">Conv2D</span>)                │ (<span style=\"color: #00d7ff; text-decoration-color: #00d7ff\">None</span>, <span style=\"color: #00af00; text-decoration-color: #00af00\">14</span>, <span style=\"color: #00af00; text-decoration-color: #00af00\">14</span>, <span style=\"color: #00af00; text-decoration-color: #00af00\">512</span>)         │       <span style=\"color: #00af00; text-decoration-color: #00af00\">2,359,808</span> │\n",
       "├──────────────────────────────────────┼─────────────────────────────┼─────────────────┤\n",
       "│ block5_conv2 (<span style=\"color: #0087ff; text-decoration-color: #0087ff\">Conv2D</span>)                │ (<span style=\"color: #00d7ff; text-decoration-color: #00d7ff\">None</span>, <span style=\"color: #00af00; text-decoration-color: #00af00\">14</span>, <span style=\"color: #00af00; text-decoration-color: #00af00\">14</span>, <span style=\"color: #00af00; text-decoration-color: #00af00\">512</span>)         │       <span style=\"color: #00af00; text-decoration-color: #00af00\">2,359,808</span> │\n",
       "├──────────────────────────────────────┼─────────────────────────────┼─────────────────┤\n",
       "│ block5_conv3 (<span style=\"color: #0087ff; text-decoration-color: #0087ff\">Conv2D</span>)                │ (<span style=\"color: #00d7ff; text-decoration-color: #00d7ff\">None</span>, <span style=\"color: #00af00; text-decoration-color: #00af00\">14</span>, <span style=\"color: #00af00; text-decoration-color: #00af00\">14</span>, <span style=\"color: #00af00; text-decoration-color: #00af00\">512</span>)         │       <span style=\"color: #00af00; text-decoration-color: #00af00\">2,359,808</span> │\n",
       "├──────────────────────────────────────┼─────────────────────────────┼─────────────────┤\n",
       "│ block5_pool (<span style=\"color: #0087ff; text-decoration-color: #0087ff\">MaxPooling2D</span>)           │ (<span style=\"color: #00d7ff; text-decoration-color: #00d7ff\">None</span>, <span style=\"color: #00af00; text-decoration-color: #00af00\">7</span>, <span style=\"color: #00af00; text-decoration-color: #00af00\">7</span>, <span style=\"color: #00af00; text-decoration-color: #00af00\">512</span>)           │               <span style=\"color: #00af00; text-decoration-color: #00af00\">0</span> │\n",
       "└──────────────────────────────────────┴─────────────────────────────┴─────────────────┘\n",
       "</pre>\n"
      ],
      "text/plain": [
       "┏━━━━━━━━━━━━━━━━━━━━━━━━━━━━━━━━━━━━━━┳━━━━━━━━━━━━━━━━━━━━━━━━━━━━━┳━━━━━━━━━━━━━━━━━┓\n",
       "┃\u001b[1m \u001b[0m\u001b[1mLayer (type)                        \u001b[0m\u001b[1m \u001b[0m┃\u001b[1m \u001b[0m\u001b[1mOutput Shape               \u001b[0m\u001b[1m \u001b[0m┃\u001b[1m \u001b[0m\u001b[1m        Param #\u001b[0m\u001b[1m \u001b[0m┃\n",
       "┡━━━━━━━━━━━━━━━━━━━━━━━━━━━━━━━━━━━━━━╇━━━━━━━━━━━━━━━━━━━━━━━━━━━━━╇━━━━━━━━━━━━━━━━━┩\n",
       "│ input_layer_4 (\u001b[38;5;33mInputLayer\u001b[0m)           │ (\u001b[38;5;45mNone\u001b[0m, \u001b[38;5;34m224\u001b[0m, \u001b[38;5;34m224\u001b[0m, \u001b[38;5;34m3\u001b[0m)         │               \u001b[38;5;34m0\u001b[0m │\n",
       "├──────────────────────────────────────┼─────────────────────────────┼─────────────────┤\n",
       "│ block1_conv1 (\u001b[38;5;33mConv2D\u001b[0m)                │ (\u001b[38;5;45mNone\u001b[0m, \u001b[38;5;34m224\u001b[0m, \u001b[38;5;34m224\u001b[0m, \u001b[38;5;34m64\u001b[0m)        │           \u001b[38;5;34m1,792\u001b[0m │\n",
       "├──────────────────────────────────────┼─────────────────────────────┼─────────────────┤\n",
       "│ block1_conv2 (\u001b[38;5;33mConv2D\u001b[0m)                │ (\u001b[38;5;45mNone\u001b[0m, \u001b[38;5;34m224\u001b[0m, \u001b[38;5;34m224\u001b[0m, \u001b[38;5;34m64\u001b[0m)        │          \u001b[38;5;34m36,928\u001b[0m │\n",
       "├──────────────────────────────────────┼─────────────────────────────┼─────────────────┤\n",
       "│ block1_pool (\u001b[38;5;33mMaxPooling2D\u001b[0m)           │ (\u001b[38;5;45mNone\u001b[0m, \u001b[38;5;34m112\u001b[0m, \u001b[38;5;34m112\u001b[0m, \u001b[38;5;34m64\u001b[0m)        │               \u001b[38;5;34m0\u001b[0m │\n",
       "├──────────────────────────────────────┼─────────────────────────────┼─────────────────┤\n",
       "│ block2_conv1 (\u001b[38;5;33mConv2D\u001b[0m)                │ (\u001b[38;5;45mNone\u001b[0m, \u001b[38;5;34m112\u001b[0m, \u001b[38;5;34m112\u001b[0m, \u001b[38;5;34m128\u001b[0m)       │          \u001b[38;5;34m73,856\u001b[0m │\n",
       "├──────────────────────────────────────┼─────────────────────────────┼─────────────────┤\n",
       "│ block2_conv2 (\u001b[38;5;33mConv2D\u001b[0m)                │ (\u001b[38;5;45mNone\u001b[0m, \u001b[38;5;34m112\u001b[0m, \u001b[38;5;34m112\u001b[0m, \u001b[38;5;34m128\u001b[0m)       │         \u001b[38;5;34m147,584\u001b[0m │\n",
       "├──────────────────────────────────────┼─────────────────────────────┼─────────────────┤\n",
       "│ block2_pool (\u001b[38;5;33mMaxPooling2D\u001b[0m)           │ (\u001b[38;5;45mNone\u001b[0m, \u001b[38;5;34m56\u001b[0m, \u001b[38;5;34m56\u001b[0m, \u001b[38;5;34m128\u001b[0m)         │               \u001b[38;5;34m0\u001b[0m │\n",
       "├──────────────────────────────────────┼─────────────────────────────┼─────────────────┤\n",
       "│ block3_conv1 (\u001b[38;5;33mConv2D\u001b[0m)                │ (\u001b[38;5;45mNone\u001b[0m, \u001b[38;5;34m56\u001b[0m, \u001b[38;5;34m56\u001b[0m, \u001b[38;5;34m256\u001b[0m)         │         \u001b[38;5;34m295,168\u001b[0m │\n",
       "├──────────────────────────────────────┼─────────────────────────────┼─────────────────┤\n",
       "│ block3_conv2 (\u001b[38;5;33mConv2D\u001b[0m)                │ (\u001b[38;5;45mNone\u001b[0m, \u001b[38;5;34m56\u001b[0m, \u001b[38;5;34m56\u001b[0m, \u001b[38;5;34m256\u001b[0m)         │         \u001b[38;5;34m590,080\u001b[0m │\n",
       "├──────────────────────────────────────┼─────────────────────────────┼─────────────────┤\n",
       "│ block3_conv3 (\u001b[38;5;33mConv2D\u001b[0m)                │ (\u001b[38;5;45mNone\u001b[0m, \u001b[38;5;34m56\u001b[0m, \u001b[38;5;34m56\u001b[0m, \u001b[38;5;34m256\u001b[0m)         │         \u001b[38;5;34m590,080\u001b[0m │\n",
       "├──────────────────────────────────────┼─────────────────────────────┼─────────────────┤\n",
       "│ block3_pool (\u001b[38;5;33mMaxPooling2D\u001b[0m)           │ (\u001b[38;5;45mNone\u001b[0m, \u001b[38;5;34m28\u001b[0m, \u001b[38;5;34m28\u001b[0m, \u001b[38;5;34m256\u001b[0m)         │               \u001b[38;5;34m0\u001b[0m │\n",
       "├──────────────────────────────────────┼─────────────────────────────┼─────────────────┤\n",
       "│ block4_conv1 (\u001b[38;5;33mConv2D\u001b[0m)                │ (\u001b[38;5;45mNone\u001b[0m, \u001b[38;5;34m28\u001b[0m, \u001b[38;5;34m28\u001b[0m, \u001b[38;5;34m512\u001b[0m)         │       \u001b[38;5;34m1,180,160\u001b[0m │\n",
       "├──────────────────────────────────────┼─────────────────────────────┼─────────────────┤\n",
       "│ block4_conv2 (\u001b[38;5;33mConv2D\u001b[0m)                │ (\u001b[38;5;45mNone\u001b[0m, \u001b[38;5;34m28\u001b[0m, \u001b[38;5;34m28\u001b[0m, \u001b[38;5;34m512\u001b[0m)         │       \u001b[38;5;34m2,359,808\u001b[0m │\n",
       "├──────────────────────────────────────┼─────────────────────────────┼─────────────────┤\n",
       "│ block4_conv3 (\u001b[38;5;33mConv2D\u001b[0m)                │ (\u001b[38;5;45mNone\u001b[0m, \u001b[38;5;34m28\u001b[0m, \u001b[38;5;34m28\u001b[0m, \u001b[38;5;34m512\u001b[0m)         │       \u001b[38;5;34m2,359,808\u001b[0m │\n",
       "├──────────────────────────────────────┼─────────────────────────────┼─────────────────┤\n",
       "│ block4_pool (\u001b[38;5;33mMaxPooling2D\u001b[0m)           │ (\u001b[38;5;45mNone\u001b[0m, \u001b[38;5;34m14\u001b[0m, \u001b[38;5;34m14\u001b[0m, \u001b[38;5;34m512\u001b[0m)         │               \u001b[38;5;34m0\u001b[0m │\n",
       "├──────────────────────────────────────┼─────────────────────────────┼─────────────────┤\n",
       "│ block5_conv1 (\u001b[38;5;33mConv2D\u001b[0m)                │ (\u001b[38;5;45mNone\u001b[0m, \u001b[38;5;34m14\u001b[0m, \u001b[38;5;34m14\u001b[0m, \u001b[38;5;34m512\u001b[0m)         │       \u001b[38;5;34m2,359,808\u001b[0m │\n",
       "├──────────────────────────────────────┼─────────────────────────────┼─────────────────┤\n",
       "│ block5_conv2 (\u001b[38;5;33mConv2D\u001b[0m)                │ (\u001b[38;5;45mNone\u001b[0m, \u001b[38;5;34m14\u001b[0m, \u001b[38;5;34m14\u001b[0m, \u001b[38;5;34m512\u001b[0m)         │       \u001b[38;5;34m2,359,808\u001b[0m │\n",
       "├──────────────────────────────────────┼─────────────────────────────┼─────────────────┤\n",
       "│ block5_conv3 (\u001b[38;5;33mConv2D\u001b[0m)                │ (\u001b[38;5;45mNone\u001b[0m, \u001b[38;5;34m14\u001b[0m, \u001b[38;5;34m14\u001b[0m, \u001b[38;5;34m512\u001b[0m)         │       \u001b[38;5;34m2,359,808\u001b[0m │\n",
       "├──────────────────────────────────────┼─────────────────────────────┼─────────────────┤\n",
       "│ block5_pool (\u001b[38;5;33mMaxPooling2D\u001b[0m)           │ (\u001b[38;5;45mNone\u001b[0m, \u001b[38;5;34m7\u001b[0m, \u001b[38;5;34m7\u001b[0m, \u001b[38;5;34m512\u001b[0m)           │               \u001b[38;5;34m0\u001b[0m │\n",
       "└──────────────────────────────────────┴─────────────────────────────┴─────────────────┘\n"
      ]
     },
     "metadata": {},
     "output_type": "display_data"
    },
    {
     "data": {
      "text/html": [
       "<pre style=\"white-space:pre;overflow-x:auto;line-height:normal;font-family:Menlo,'DejaVu Sans Mono',consolas,'Courier New',monospace\"><span style=\"font-weight: bold\"> Total params: </span><span style=\"color: #00af00; text-decoration-color: #00af00\">14,714,688</span> (56.13 MB)\n",
       "</pre>\n"
      ],
      "text/plain": [
       "\u001b[1m Total params: \u001b[0m\u001b[38;5;34m14,714,688\u001b[0m (56.13 MB)\n"
      ]
     },
     "metadata": {},
     "output_type": "display_data"
    },
    {
     "data": {
      "text/html": [
       "<pre style=\"white-space:pre;overflow-x:auto;line-height:normal;font-family:Menlo,'DejaVu Sans Mono',consolas,'Courier New',monospace\"><span style=\"font-weight: bold\"> Trainable params: </span><span style=\"color: #00af00; text-decoration-color: #00af00\">14,714,688</span> (56.13 MB)\n",
       "</pre>\n"
      ],
      "text/plain": [
       "\u001b[1m Trainable params: \u001b[0m\u001b[38;5;34m14,714,688\u001b[0m (56.13 MB)\n"
      ]
     },
     "metadata": {},
     "output_type": "display_data"
    },
    {
     "data": {
      "text/html": [
       "<pre style=\"white-space:pre;overflow-x:auto;line-height:normal;font-family:Menlo,'DejaVu Sans Mono',consolas,'Courier New',monospace\"><span style=\"font-weight: bold\"> Non-trainable params: </span><span style=\"color: #00af00; text-decoration-color: #00af00\">0</span> (0.00 B)\n",
       "</pre>\n"
      ],
      "text/plain": [
       "\u001b[1m Non-trainable params: \u001b[0m\u001b[38;5;34m0\u001b[0m (0.00 B)\n"
      ]
     },
     "metadata": {},
     "output_type": "display_data"
    }
   ],
   "source": [
    "# Создаем базовую модель VGG16\n",
    "vgg_base_model = VGG16(include_top=False, weights='imagenet', input_shape=(IMG_HEIGHT, IMG_WIDTH, 3))\n",
    "vgg_base_model.summary()"
   ]
  },
  {
   "cell_type": "code",
   "execution_count": 111,
   "id": "bfb5ccc2-80ff-4e7c-8c7a-b23f3f556687",
   "metadata": {},
   "outputs": [],
   "source": [
    "def build_model(vgg_base): \n",
    "    input_layer = Input(shape=(IMG_HEIGHT,IMG_WIDTH,3))\n",
    "    \n",
    "    # Используем переданную базовую модель VGG16 как часть нашей архитектуры\n",
    "    vgg_output = vgg_base(input_layer)\n",
    "\n",
    "    # Ветвь для классификации (наличие/отсутствие лица)\n",
    "    f1 = GlobalMaxPooling2D()(vgg_output)\n",
    "    class1 = Dense(2048, activation='relu')(f1)\n",
    "    class2 = Dense(1, activation='sigmoid')(class1) # Выход 1 для классификации\n",
    "\n",
    "    # Ветвь для регрессии (координаты ограничивающей рамки)\n",
    "    f2 = GlobalAveragePooling2D()(vgg_output) # GlobalAveragePooling2D часто лучше для регрессии\n",
    "    regress1 = Dense(2048, activation='relu')(f2)\n",
    "    regress2 = Dense(4, activation='sigmoid')(regress1) # Выход 4 для координат (x_min, y_min, x_max, y_max)\n",
    "    \n",
    "    # Объединяем две ветви в одну модель\n",
    "    facetracker = Model(inputs=input_layer, outputs=[class2, regress2])\n",
    "    return facetracker"
   ]
  },
  {
   "cell_type": "markdown",
   "id": "99ccd3bf-7c42-4cd3-befb-7a7940344b42",
   "metadata": {},
   "source": [
    "## Новая loss функция для регрессии"
   ]
  },
  {
   "cell_type": "code",
   "execution_count": 112,
   "id": "423d3ce2-aa6e-4378-93a9-47675f406179",
   "metadata": {},
   "outputs": [],
   "source": [
    "import tensorflow as tf"
   ]
  },
  {
   "cell_type": "code",
   "execution_count": 113,
   "id": "a0cd8f5d-a65f-48ee-9d69-7d88ee8fe1cc",
   "metadata": {},
   "outputs": [],
   "source": [
    "def iou_loss(y_true, y_pred):\n",
    "    inter_x_min = tf.maximum(y_true[:, 0], y_pred[:, 0])\n",
    "    inter_y_min = tf.maximum(y_true[:, 1], y_pred[:, 1])\n",
    "    inter_x_max = tf.minimum(y_true[:, 2], y_pred[:, 2])\n",
    "    inter_y_max = tf.minimum(y_true[:, 3], y_pred[:, 3])\n",
    "\n",
    "    inter_width = tf.maximum(0.0, inter_x_max - inter_x_min)\n",
    "    inter_height = tf.maximum(0.0, inter_y_max - inter_y_min)\n",
    "    \n",
    "    intersection_area = inter_width * inter_height\n",
    "\n",
    "    true_width = y_true[:, 2] - y_true[:, 0]\n",
    "    true_height = y_true[:, 3] - y_true[:, 1]\n",
    "    true_area = true_width * true_height\n",
    "\n",
    "    pred_width = y_pred[:, 2] - y_pred[:, 0]\n",
    "    pred_height = y_pred[:, 3] - y_pred[:, 1]\n",
    "    pred_area = pred_width * pred_height\n",
    "\n",
    "    union_area = true_area + pred_area - intersection_area\n",
    "    \n",
    "    iou = tf.where(tf.equal(union_area, 0), 0.0, intersection_area / union_area)\n",
    "    \n",
    "    return 1.0 - iou"
   ]
  },
  {
   "cell_type": "code",
   "execution_count": 114,
   "id": "d85ce193-cb30-4dcf-81d7-3eb84d9ae7eb",
   "metadata": {},
   "outputs": [],
   "source": [
    "classloss = tf.keras.losses.BinaryCrossentropy(reduction=tf.keras.losses.Reduction.SUM_OVER_BATCH_SIZE)\n",
    "regressloss = iou_loss"
   ]
  },
  {
   "cell_type": "markdown",
   "id": "d1519328-6f2a-4b48-aa73-2bae7b0015ed",
   "metadata": {},
   "source": [
    "## Обучение в 2 фазы. С заморозкой весов и с размороженными весами VGG16"
   ]
  },
  {
   "cell_type": "code",
   "execution_count": 86,
   "id": "9cf840e8-5400-4b2f-bdc5-7733c0b5b08d",
   "metadata": {},
   "outputs": [],
   "source": [
    "# Создаём tf.data.Dataset\n",
    "train_dataset = tf.data.Dataset.from_tensor_slices((train_images, train_labels, train_bboxes))\n",
    "train_dataset = train_dataset.shuffle(1000).batch(16).prefetch(tf.data.AUTOTUNE)\n",
    "\n",
    "val_dataset = tf.data.Dataset.from_tensor_slices((val_images, val_labels, val_bboxes))\n",
    "val_dataset = val_dataset.batch(16).prefetch(tf.data.AUTOTUNE)"
   ]
  },
  {
   "cell_type": "code",
   "execution_count": 115,
   "id": "29227488-44c4-4339-93d9-5ee70bd37c7f",
   "metadata": {},
   "outputs": [],
   "source": [
    "class FaceTracker(tf.keras.Model): \n",
    "    def __init__(self, eyetracker, **kwargs): \n",
    "        super().__init__(**kwargs)\n",
    "        self.model = eyetracker\n",
    "\n",
    "    def compile(self, opt, classloss, localizationloss_fn, **kwargs):\n",
    "        self.closs = classloss\n",
    "        self.lloss_fn = localizationloss_fn \n",
    "        self.opt = opt\n",
    "        super().compile(**kwargs)\n",
    "    \n",
    "    def train_step(self, data):\n",
    "        X, label, bbox = data\n",
    "\n",
    "        with tf.GradientTape() as tape:\n",
    "            pred_label, pred_bbox = self.model(X, training=True)\n",
    "            \n",
    "            # 1. Вычисляем потерю классификации (всегда)\n",
    "            class_loss = self.closs(label, pred_label)\n",
    "            \n",
    "            # 2. Вычисляем потери локализации для КАЖДОГО примера в батче\n",
    "            loc_loss_per_sample = self.lloss_fn(tf.cast(bbox, tf.float32), pred_bbox)\n",
    "            \n",
    "            # 3. Создаем маску для примеров, где есть лицо (label == 1)\n",
    "            has_face_mask = tf.cast(label, tf.float32) # Преобразуем метки 0/1 в float32 для умножения\n",
    "\n",
    "            # 4. Применяем маску к потерям локализации:\n",
    "            #    Потери для безликих изображений станут 0.\n",
    "            masked_loc_loss_per_sample = loc_loss_per_sample * has_face_mask\n",
    "            \n",
    "            # 5. Вычисляем количество примеров, которые ДЕЙСТВИТЕЛЬНО содержат лицо\n",
    "            num_face_samples = tf.reduce_sum(has_face_mask)\n",
    "            \n",
    "            # 6. Усредняем маскированные потери локализации ТОЛЬКО по примерам с лицами.\n",
    "            #    tf.where используется для предотвращения деления на ноль, если в батче нет лиц.\n",
    "            loc_loss = tf.where(tf.equal(num_face_samples, 0.0), \n",
    "                                0.0, # Если нет лиц, потеря локализации = 0\n",
    "                                tf.reduce_sum(masked_loc_loss_per_sample) / num_face_samples)\n",
    "            \n",
    "            # Общая потеря\n",
    "            total_loss = loc_loss + 0.5 * class_loss\n",
    "\n",
    "        grads = tape.gradient(total_loss, self.model.trainable_variables)\n",
    "        self.opt.apply_gradients(zip(grads, self.model.trainable_variables))\n",
    "\n",
    "        return {\n",
    "            \"total_loss\": total_loss,\n",
    "            \"class_loss\": class_loss,\n",
    "            \"regress_loss\": loc_loss # Теперь regress_loss будет показывать реальную потерю для лиц\n",
    "        }\n",
    "\n",
    "    def test_step(self, data):\n",
    "        X, label, bbox = data\n",
    "\n",
    "        pred_label, pred_bbox = self.model(X, training=False)\n",
    "\n",
    "        class_loss = self.closs(label, pred_label)\n",
    "        \n",
    "        loc_loss_per_sample = self.lloss_fn(tf.cast(bbox, tf.float32), pred_bbox)\n",
    "        has_face_mask = tf.cast(label, tf.float32)\n",
    "        masked_loc_loss_per_sample = loc_loss_per_sample * has_face_mask\n",
    "        \n",
    "        num_face_samples = tf.reduce_sum(has_face_mask)\n",
    "        loc_loss = tf.where(tf.equal(num_face_samples, 0.0), \n",
    "                            0.0, \n",
    "                            tf.reduce_sum(masked_loc_loss_per_sample) / num_face_samples)\n",
    "\n",
    "        total_loss = loc_loss + 0.5 * class_loss\n",
    "\n",
    "        return {\n",
    "            \"total_loss\": total_loss,\n",
    "            \"class_loss\": class_loss,\n",
    "            \"regress_loss\": loc_loss\n",
    "        }\n",
    "\n",
    "    def call(self, inputs, **kwargs):\n",
    "        return self.model(inputs, **kwargs)"
   ]
  },
  {
   "cell_type": "code",
   "execution_count": 116,
   "id": "635b8b9d-0dff-4f9c-999a-62b8d37d5813",
   "metadata": {},
   "outputs": [],
   "source": [
    "logdir='logs'\n",
    "tensorboard_callback = tf.keras.callbacks.TensorBoard(log_dir=logdir)"
   ]
  },
  {
   "cell_type": "code",
   "execution_count": 117,
   "id": "2b06608e-9f1b-4664-8c12-0cbcb563d112",
   "metadata": {},
   "outputs": [],
   "source": [
    "# Замораживаем все слои VGG16, чтобы обучались только добавленные слои\n",
    "for layer in vgg_base_model.layers:\n",
    "    layer.trainable = False"
   ]
  },
  {
   "cell_type": "markdown",
   "id": "c6cdb1e4-c141-4981-802e-31bb9c9d20d0",
   "metadata": {},
   "source": [
    "Создаем \"Facetracker\" модель, используя замороженный VGG16"
   ]
  },
  {
   "cell_type": "code",
   "execution_count": 118,
   "id": "9d9840df-d6ff-4e52-9627-26449142c0e3",
   "metadata": {},
   "outputs": [],
   "source": [
    "facetracker_phase1 = build_model(vgg_base_model)\n",
    "model_phase1 = FaceTracker(facetracker_phase1)"
   ]
  },
  {
   "cell_type": "markdown",
   "id": "b6c95cde-10ab-4c91-b137-dc779b1d6e30",
   "metadata": {},
   "source": [
    "Оптимизатор для Фазы 1: стандартная скорость обучения"
   ]
  },
  {
   "cell_type": "code",
   "execution_count": 119,
   "id": "03a69af9-7269-4a8e-9222-ba5633c53a24",
   "metadata": {},
   "outputs": [],
   "source": [
    "lr_schedule_phase1 = tf.keras.optimizers.schedules.ExponentialDecay(\n",
    "    initial_learning_rate=0.0001,\n",
    "    decay_steps=len(train_labels)//16,\n",
    "    decay_rate=0.9,\n",
    "    staircase=False\n",
    ")\n",
    "opt_phase1 = tf.keras.optimizers.Adam(learning_rate=lr_schedule_phase1)"
   ]
  },
  {
   "cell_type": "code",
   "execution_count": 120,
   "id": "38ee0b05-fca7-4e9a-b447-c2bd99e30388",
   "metadata": {},
   "outputs": [
    {
     "name": "stdout",
     "output_type": "stream",
     "text": [
      "\n",
      "--- НАЧИНАЕТСЯ ФАЗА 1: ОБУЧЕНИЕ ГОЛОВ (VGG16 ЗАМОРОЖЕН) ---\n",
      "Epoch 1/7\n",
      "\u001b[1m322/322\u001b[0m \u001b[32m━━━━━━━━━━━━━━━━━━━━\u001b[0m\u001b[37m\u001b[0m \u001b[1m1052s\u001b[0m 3s/step - class_loss: 0.5298 - regress_loss: 0.8461 - total_loss: 1.1110 - val_class_loss: 0.6168 - val_regress_loss: 0.8639 - val_total_loss: 1.1723\n",
      "Epoch 2/7\n",
      "\u001b[1m322/322\u001b[0m \u001b[32m━━━━━━━━━━━━━━━━━━━━\u001b[0m\u001b[37m\u001b[0m \u001b[1m1015s\u001b[0m 3s/step - class_loss: 0.4909 - regress_loss: 0.8258 - total_loss: 1.0712 - val_class_loss: 0.5149 - val_regress_loss: 0.8736 - val_total_loss: 1.1311\n",
      "Epoch 3/7\n",
      "\u001b[1m322/322\u001b[0m \u001b[32m━━━━━━━━━━━━━━━━━━━━\u001b[0m\u001b[37m\u001b[0m \u001b[1m1015s\u001b[0m 3s/step - class_loss: 0.4763 - regress_loss: 0.8173 - total_loss: 1.0554 - val_class_loss: 0.4931 - val_regress_loss: 0.8612 - val_total_loss: 1.1077\n",
      "Epoch 4/7\n",
      "\u001b[1m322/322\u001b[0m \u001b[32m━━━━━━━━━━━━━━━━━━━━\u001b[0m\u001b[37m\u001b[0m \u001b[1m1002s\u001b[0m 3s/step - class_loss: 0.4549 - regress_loss: 0.8116 - total_loss: 1.0390 - val_class_loss: 0.7597 - val_regress_loss: 0.8511 - val_total_loss: 1.2309\n",
      "Epoch 5/7\n",
      "\u001b[1m322/322\u001b[0m \u001b[32m━━━━━━━━━━━━━━━━━━━━\u001b[0m\u001b[37m\u001b[0m \u001b[1m1008s\u001b[0m 3s/step - class_loss: 0.4439 - regress_loss: 0.8061 - total_loss: 1.0280 - val_class_loss: 0.5362 - val_regress_loss: 0.8442 - val_total_loss: 1.1123\n",
      "Epoch 6/7\n",
      "\u001b[1m322/322\u001b[0m \u001b[32m━━━━━━━━━━━━━━━━━━━━\u001b[0m\u001b[37m\u001b[0m \u001b[1m1011s\u001b[0m 3s/step - class_loss: 0.4298 - regress_loss: 0.8043 - total_loss: 1.0192 - val_class_loss: 0.5638 - val_regress_loss: 0.8465 - val_total_loss: 1.1285\n",
      "Epoch 7/7\n",
      "\u001b[1m322/322\u001b[0m \u001b[32m━━━━━━━━━━━━━━━━━━━━\u001b[0m\u001b[37m\u001b[0m \u001b[1m1012s\u001b[0m 3s/step - class_loss: 0.4223 - regress_loss: 0.8027 - total_loss: 1.0138 - val_class_loss: 0.5711 - val_regress_loss: 0.8351 - val_total_loss: 1.1207\n",
      "Ошибка при сохранении модели: name 'final_model' is not defined\n",
      "\n",
      "--- НАЧИНАЕТСЯ ФАЗА 2: ТОНКАЯ НАСТРОЙКА (VGG16 РАЗМОРОЖЕН) ---\n",
      "Epoch 1/10\n",
      "\u001b[1m322/322\u001b[0m \u001b[32m━━━━━━━━━━━━━━━━━━━━\u001b[0m\u001b[37m\u001b[0m \u001b[1m2557s\u001b[0m 8s/step - class_loss: 0.4041 - regress_loss: 0.7985 - total_loss: 1.0005 - val_class_loss: 0.4904 - val_regress_loss: 0.8633 - val_total_loss: 1.1084\n",
      "Epoch 2/10\n",
      "\u001b[1m322/322\u001b[0m \u001b[32m━━━━━━━━━━━━━━━━━━━━\u001b[0m\u001b[37m\u001b[0m \u001b[1m2553s\u001b[0m 8s/step - class_loss: 0.2727 - regress_loss: 0.7899 - total_loss: 0.9262 - val_class_loss: 0.4000 - val_regress_loss: 0.8605 - val_total_loss: 1.0606\n",
      "Epoch 3/10\n",
      "\u001b[1m322/322\u001b[0m \u001b[32m━━━━━━━━━━━━━━━━━━━━\u001b[0m\u001b[37m\u001b[0m \u001b[1m2575s\u001b[0m 8s/step - class_loss: 0.1578 - regress_loss: 0.7777 - total_loss: 0.8566 - val_class_loss: 0.4671 - val_regress_loss: 0.8898 - val_total_loss: 1.1234\n",
      "Epoch 4/10\n",
      "\u001b[1m322/322\u001b[0m \u001b[32m━━━━━━━━━━━━━━━━━━━━\u001b[0m\u001b[37m\u001b[0m \u001b[1m2628s\u001b[0m 8s/step - class_loss: 0.0826 - regress_loss: 0.7681 - total_loss: 0.8094 - val_class_loss: 0.5954 - val_regress_loss: 0.8415 - val_total_loss: 1.1392\n",
      "Epoch 5/10\n",
      "\u001b[1m322/322\u001b[0m \u001b[32m━━━━━━━━━━━━━━━━━━━━\u001b[0m\u001b[37m\u001b[0m \u001b[1m2589s\u001b[0m 8s/step - class_loss: 0.0451 - regress_loss: 0.7585 - total_loss: 0.7810 - val_class_loss: 0.6634 - val_regress_loss: 0.8317 - val_total_loss: 1.1634\n",
      "Epoch 6/10\n",
      "\u001b[1m322/322\u001b[0m \u001b[32m━━━━━━━━━━━━━━━━━━━━\u001b[0m\u001b[37m\u001b[0m \u001b[1m2614s\u001b[0m 8s/step - class_loss: 0.0287 - regress_loss: 0.7471 - total_loss: 0.7614 - val_class_loss: 0.6806 - val_regress_loss: 0.8409 - val_total_loss: 1.1812\n",
      "Epoch 7/10\n",
      "\u001b[1m322/322\u001b[0m \u001b[32m━━━━━━━━━━━━━━━━━━━━\u001b[0m\u001b[37m\u001b[0m \u001b[1m2636s\u001b[0m 8s/step - class_loss: 0.0200 - regress_loss: 0.7361 - total_loss: 0.7461 - val_class_loss: 0.8030 - val_regress_loss: 0.8219 - val_total_loss: 1.2234\n",
      "Epoch 8/10\n",
      "\u001b[1m322/322\u001b[0m \u001b[32m━━━━━━━━━━━━━━━━━━━━\u001b[0m\u001b[37m\u001b[0m \u001b[1m2621s\u001b[0m 8s/step - class_loss: 0.0154 - regress_loss: 0.7247 - total_loss: 0.7324 - val_class_loss: 0.7379 - val_regress_loss: 0.8426 - val_total_loss: 1.2116\n",
      "Epoch 9/10\n",
      "\u001b[1m322/322\u001b[0m \u001b[32m━━━━━━━━━━━━━━━━━━━━\u001b[0m\u001b[37m\u001b[0m \u001b[1m2621s\u001b[0m 8s/step - class_loss: 0.0118 - regress_loss: 0.7152 - total_loss: 0.7211 - val_class_loss: 0.7772 - val_regress_loss: 0.8500 - val_total_loss: 1.2386\n",
      "Epoch 10/10\n",
      "\u001b[1m322/322\u001b[0m \u001b[32m━━━━━━━━━━━━━━━━━━━━\u001b[0m\u001b[37m\u001b[0m \u001b[1m2615s\u001b[0m 8s/step - class_loss: 0.0098 - regress_loss: 0.7066 - total_loss: 0.7115 - val_class_loss: 0.9133 - val_regress_loss: 0.8419 - val_total_loss: 1.2985\n",
      "Ошибка при сохранении модели: name 'final_model' is not defined\n"
     ]
    }
   ],
   "source": [
    "# Компилируем модель для Фазы 1\n",
    "model_phase1.compile(opt_phase1, classloss, regressloss)\n",
    "\n",
    "print(\"\\n--- НАЧИНАЕТСЯ ФАЗА 1: ОБУЧЕНИЕ ГОЛОВ (VGG16 ЗАМОРОЖЕН) ---\")\n",
    "# ОБУЧЕНИЕ ФАЗЫ 1\n",
    "hist_phase1 = model_phase1.fit(train_dataset, epochs=7, validation_data=val_dataset, callbacks=[tensorboard_callback])\n",
    "\n",
    "# СОХРАНЕНИЕ МОДЕЛИ Фазы 1\n",
    "model_1 = model_phase1\n",
    "base_save_dir = r\"C:\\Users\\PAVILION\\Desktop\\Coding\\TrainedModels\"\n",
    "model_save_path_keras = os.path.join(base_save_dir, \"face_detection_1_vgg16_bigdata.keras\")\n",
    "try:\n",
    "    final_model.save(model_save_path_keras)\n",
    "    print(f\"Модель успешно сохранена в: {model_save_path_keras}\")\n",
    "except Exception as e:\n",
    "    print(f\"Ошибка при сохранении модели: {e}\")\n",
    "\n",
    "# Фаза 2: Тонкая настройка (Fine-tuning)\n",
    "for layer in vgg_base_model.layers:\n",
    "    layer.trainable = True\n",
    "\n",
    "# Оптимизатор для Фазы 2: Значительно более низкая скорость обучения\n",
    "lr_schedule_phase2 = tf.keras.optimizers.schedules.ExponentialDecay(\n",
    "    initial_learning_rate=0.00001,\n",
    "    decay_steps=len(train_labels)//16,\n",
    "    decay_rate=0.9,\n",
    "    staircase=False\n",
    ")\n",
    "opt_phase2 = tf.keras.optimizers.Adam(learning_rate=lr_schedule_phase2)\n",
    "\n",
    "model_phase1.compile(opt_phase2, classloss, regressloss)\n",
    "\n",
    "print(\"\\n--- НАЧИНАЕТСЯ ФАЗА 2: ТОНКАЯ НАСТРОЙКА (VGG16 РАЗМОРОЖЕН) ---\")\n",
    "# ОБУЧЕНИЕ ФАЗЫ 2: продолжаем обучение на большее количество эпох\n",
    "hist_phase2 = model_phase1.fit(train_dataset, epochs=10, validation_data=val_dataset, callbacks=[tensorboard_callback])\n",
    "\n",
    "# СОХРАНЕНИЕ МОДЕЛИ Фазы 2\n",
    "model_2 = model_phase1\n",
    "base_save_dir = r\"C:\\Users\\PAVILION\\Desktop\\Coding\\TrainedModels\"\n",
    "model_save_path_keras = os.path.join(base_save_dir, \"face_detection_2_vgg16_bigdata.keras\")\n",
    "\n",
    "try:\n",
    "    final_model.save(model_save_path_keras)\n",
    "    print(f\"Модель успешно сохранена в: {model_save_path_keras}\")\n",
    "except Exception as e:\n",
    "    print(f\"Ошибка при сохранении модели: {e}\")"
   ]
  },
  {
   "cell_type": "markdown",
   "id": "fb51c514-aed2-4cb3-ae7d-f4ace078a9e8",
   "metadata": {},
   "source": [
    "# 3. Оценка качества модели"
   ]
  },
  {
   "cell_type": "markdown",
   "id": "a402d912-ed20-440b-ad3e-7dd53d3ae926",
   "metadata": {},
   "source": [
    "Для оценки качества модели построим график потерь (`loss`) и точности (`accuracy`) для обучающего и валидационного наборов данных. Это поможет нам понять, есть ли переобучение или недообучение."
   ]
  },
  {
   "cell_type": "code",
   "execution_count": 124,
   "id": "e79ddc43-c344-4051-a962-26a2c72a3932",
   "metadata": {},
   "outputs": [
    {
     "data": {
      "image/png": "[encoded data removed]",
      "text/plain": [
       "<Figure size 2000x500 with 3 Axes>"
      ]
     },
     "metadata": {},
     "output_type": "display_data"
    }
   ],
   "source": [
    "hist = hist_phase2\n",
    "fig, ax = plt.subplots(ncols=3, figsize=(20,5))\n",
    "\n",
    "ax[0].plot(hist.history['total_loss'], color='teal', label='loss')\n",
    "ax[0].plot(hist.history['val_total_loss'], color='orange', label='val loss')\n",
    "ax[0].title.set_text('Loss')\n",
    "ax[0].legend()\n",
    "\n",
    "ax[1].plot(hist.history['class_loss'], color='teal', label='class loss')\n",
    "ax[1].plot(hist.history['val_class_loss'], color='orange', label='val class loss')\n",
    "ax[1].title.set_text('Classification Loss')\n",
    "ax[1].legend()\n",
    "\n",
    "ax[2].plot(hist.history['regress_loss'], color='teal', label='regress loss')\n",
    "ax[2].plot(hist.history['val_regress_loss'], color='orange', label='val regress loss')\n",
    "ax[2].title.set_text('Regression Loss')\n",
    "ax[2].legend()\n",
    "\n",
    "plt.show()"
   ]
  },
  {
   "cell_type": "code",
   "execution_count": 122,
   "id": "5a321647-5a96-43a8-911c-171ff94a42ba",
   "metadata": {},
   "outputs": [
    {
     "ename": "NameError",
     "evalue": "name 'hist' is not defined",
     "output_type": "error",
     "traceback": [
      "\u001b[1;31m---------------------------------------------------------------------------\u001b[0m",
      "\u001b[1;31mNameError\u001b[0m                                 Traceback (most recent call last)",
      "Cell \u001b[1;32mIn[122], line 39\u001b[0m\n\u001b[0;32m     36\u001b[0m     plt\u001b[38;5;241m.\u001b[39mshow()\n\u001b[0;32m     38\u001b[0m \u001b[38;5;66;03m# Вызов функции для построения графиков\u001b[39;00m\n\u001b[1;32m---> 39\u001b[0m plot_training_history(hist)\n",
      "\u001b[1;31mNameError\u001b[0m: name 'hist' is not defined"
     ]
    }
   ],
   "source": [
    "import matplotlib.pyplot as plt\n",
    "\n",
    "def plot_training_history(history):\n",
    "    # Получаем данные из объекта history\n",
    "    # Потери для bounding box и классификации\n",
    "    bbox_loss = history.history['bbox_mae']\n",
    "    val_bbox_loss = history.history['val_bbox_mae']\n",
    "    class_loss = history.history['class_loss']\n",
    "    val_class_loss = history.history['val_class_loss']\n",
    "\n",
    "    total_loss = history.history['loss']\n",
    "\n",
    "    epochs = range(1, len(total_loss) + 1)\n",
    "\n",
    "    # График потерь для Bounding Box (MAE)\n",
    "    plt.figure(figsize=(12, 5))\n",
    "    plt.subplot(1, 2, 1)\n",
    "    plt.plot(epochs, bbox_loss, 'b', label='Потеря BBox на обучении')\n",
    "    plt.plot(epochs, val_bbox_loss, 'r', label='Потеря BBox на валидации')\n",
    "    plt.title('Потеря Bounding Box (MAE)')\n",
    "    plt.xlabel('Эпохи')\n",
    "    plt.ylabel('Потеря MAE')\n",
    "    plt.legend()\n",
    "    plt.grid(True)\n",
    "    \n",
    "    # График потерь для классификации (Binary Crossentropy)\n",
    "    plt.subplot(1, 2, 2)\n",
    "    plt.plot(epochs, class_loss, 'b', label='Потеря класса на обучении')\n",
    "    plt.plot(epochs, val_class_loss, 'r', label='Потеря класса на валидации')\n",
    "    plt.title('Потеря классификации (Binary Crossentropy)')\n",
    "    plt.xlabel('Эпохи')\n",
    "    plt.ylabel('Потеря BCE')\n",
    "    plt.legend()\n",
    "    plt.grid(True)\n",
    "    plt.tight_layout()\n",
    "    plt.show()\n",
    "\n",
    "# Вызов функции для построения графиков\n",
    "plot_training_history(hist)"
   ]
  },
  {
   "cell_type": "markdown",
   "id": "ced5fdb8-686b-40a1-876c-a15f4b61a4a3",
   "metadata": {},
   "source": [
    "## Проверка работы модели в реальном времени"
   ]
  },
  {
   "cell_type": "code",
   "execution_count": 128,
   "id": "2c5691f5-db39-4427-8d5a-f07a69b3cc0d",
   "metadata": {},
   "outputs": [
    {
     "name": "stdout",
     "output_type": "stream",
     "text": [
      "\u001b[1m1/1\u001b[0m \u001b[32m━━━━━━━━━━━━━━━━━━━━\u001b[0m\u001b[37m\u001b[0m \u001b[1m1s\u001b[0m 1s/step\n",
      "\u001b[1m1/1\u001b[0m \u001b[32m━━━━━━━━━━━━━━━━━━━━\u001b[0m\u001b[37m\u001b[0m \u001b[1m0s\u001b[0m 305ms/step\n",
      "\u001b[1m1/1\u001b[0m \u001b[32m━━━━━━━━━━━━━━━━━━━━\u001b[0m\u001b[37m\u001b[0m \u001b[1m0s\u001b[0m 287ms/step\n",
      "\u001b[1m1/1\u001b[0m \u001b[32m━━━━━━━━━━━━━━━━━━━━\u001b[0m\u001b[37m\u001b[0m \u001b[1m0s\u001b[0m 250ms/step\n",
      "\u001b[1m1/1\u001b[0m \u001b[32m━━━━━━━━━━━━━━━━━━━━\u001b[0m\u001b[37m\u001b[0m \u001b[1m0s\u001b[0m 290ms/step\n",
      "\u001b[1m1/1\u001b[0m \u001b[32m━━━━━━━━━━━━━━━━━━━━\u001b[0m\u001b[37m\u001b[0m \u001b[1m0s\u001b[0m 252ms/step\n",
      "\u001b[1m1/1\u001b[0m \u001b[32m━━━━━━━━━━━━━━━━━━━━\u001b[0m\u001b[37m\u001b[0m \u001b[1m0s\u001b[0m 238ms/step\n",
      "\u001b[1m1/1\u001b[0m \u001b[32m━━━━━━━━━━━━━━━━━━━━\u001b[0m\u001b[37m\u001b[0m \u001b[1m0s\u001b[0m 241ms/step\n",
      "\u001b[1m1/1\u001b[0m \u001b[32m━━━━━━━━━━━━━━━━━━━━\u001b[0m\u001b[37m\u001b[0m \u001b[1m0s\u001b[0m 253ms/step\n",
      "\u001b[1m1/1\u001b[0m \u001b[32m━━━━━━━━━━━━━━━━━━━━\u001b[0m\u001b[37m\u001b[0m \u001b[1m0s\u001b[0m 250ms/step\n",
      "\u001b[1m1/1\u001b[0m \u001b[32m━━━━━━━━━━━━━━━━━━━━\u001b[0m\u001b[37m\u001b[0m \u001b[1m0s\u001b[0m 244ms/step\n",
      "\u001b[1m1/1\u001b[0m \u001b[32m━━━━━━━━━━━━━━━━━━━━\u001b[0m\u001b[37m\u001b[0m \u001b[1m0s\u001b[0m 236ms/step\n",
      "\u001b[1m1/1\u001b[0m \u001b[32m━━━━━━━━━━━━━━━━━━━━\u001b[0m\u001b[37m\u001b[0m \u001b[1m0s\u001b[0m 266ms/step\n",
      "\u001b[1m1/1\u001b[0m \u001b[32m━━━━━━━━━━━━━━━━━━━━\u001b[0m\u001b[37m\u001b[0m \u001b[1m0s\u001b[0m 239ms/step\n",
      "\u001b[1m1/1\u001b[0m \u001b[32m━━━━━━━━━━━━━━━━━━━━\u001b[0m\u001b[37m\u001b[0m \u001b[1m0s\u001b[0m 244ms/step\n",
      "\u001b[1m1/1\u001b[0m \u001b[32m━━━━━━━━━━━━━━━━━━━━\u001b[0m\u001b[37m\u001b[0m \u001b[1m0s\u001b[0m 257ms/step\n",
      "\u001b[1m1/1\u001b[0m \u001b[32m━━━━━━━━━━━━━━━━━━━━\u001b[0m\u001b[37m\u001b[0m \u001b[1m0s\u001b[0m 243ms/step\n",
      "\u001b[1m1/1\u001b[0m \u001b[32m━━━━━━━━━━━━━━━━━━━━\u001b[0m\u001b[37m\u001b[0m \u001b[1m0s\u001b[0m 261ms/step\n",
      "\u001b[1m1/1\u001b[0m \u001b[32m━━━━━━━━━━━━━━━━━━━━\u001b[0m\u001b[37m\u001b[0m \u001b[1m0s\u001b[0m 261ms/step\n",
      "\u001b[1m1/1\u001b[0m \u001b[32m━━━━━━━━━━━━━━━━━━━━\u001b[0m\u001b[37m\u001b[0m \u001b[1m0s\u001b[0m 245ms/step\n",
      "\u001b[1m1/1\u001b[0m \u001b[32m━━━━━━━━━━━━━━━━━━━━\u001b[0m\u001b[37m\u001b[0m \u001b[1m0s\u001b[0m 240ms/step\n",
      "\u001b[1m1/1\u001b[0m \u001b[32m━━━━━━━━━━━━━━━━━━━━\u001b[0m\u001b[37m\u001b[0m \u001b[1m0s\u001b[0m 270ms/step\n",
      "\u001b[1m1/1\u001b[0m \u001b[32m━━━━━━━━━━━━━━━━━━━━\u001b[0m\u001b[37m\u001b[0m \u001b[1m0s\u001b[0m 244ms/step\n",
      "\u001b[1m1/1\u001b[0m \u001b[32m━━━━━━━━━━━━━━━━━━━━\u001b[0m\u001b[37m\u001b[0m \u001b[1m0s\u001b[0m 242ms/step\n",
      "\u001b[1m1/1\u001b[0m \u001b[32m━━━━━━━━━━━━━━━━━━━━\u001b[0m\u001b[37m\u001b[0m \u001b[1m0s\u001b[0m 243ms/step\n",
      "\u001b[1m1/1\u001b[0m \u001b[32m━━━━━━━━━━━━━━━━━━━━\u001b[0m\u001b[37m\u001b[0m \u001b[1m0s\u001b[0m 262ms/step\n",
      "\u001b[1m1/1\u001b[0m \u001b[32m━━━━━━━━━━━━━━━━━━━━\u001b[0m\u001b[37m\u001b[0m \u001b[1m0s\u001b[0m 243ms/step\n",
      "\u001b[1m1/1\u001b[0m \u001b[32m━━━━━━━━━━━━━━━━━━━━\u001b[0m\u001b[37m\u001b[0m \u001b[1m0s\u001b[0m 246ms/step\n",
      "\u001b[1m1/1\u001b[0m \u001b[32m━━━━━━━━━━━━━━━━━━━━\u001b[0m\u001b[37m\u001b[0m \u001b[1m0s\u001b[0m 262ms/step\n",
      "\u001b[1m1/1\u001b[0m \u001b[32m━━━━━━━━━━━━━━━━━━━━\u001b[0m\u001b[37m\u001b[0m \u001b[1m0s\u001b[0m 245ms/step\n",
      "\u001b[1m1/1\u001b[0m \u001b[32m━━━━━━━━━━━━━━━━━━━━\u001b[0m\u001b[37m\u001b[0m \u001b[1m0s\u001b[0m 242ms/step\n",
      "\u001b[1m1/1\u001b[0m \u001b[32m━━━━━━━━━━━━━━━━━━━━\u001b[0m\u001b[37m\u001b[0m \u001b[1m0s\u001b[0m 247ms/step\n",
      "\u001b[1m1/1\u001b[0m \u001b[32m━━━━━━━━━━━━━━━━━━━━\u001b[0m\u001b[37m\u001b[0m \u001b[1m0s\u001b[0m 235ms/step\n",
      "\u001b[1m1/1\u001b[0m \u001b[32m━━━━━━━━━━━━━━━━━━━━\u001b[0m\u001b[37m\u001b[0m \u001b[1m0s\u001b[0m 261ms/step\n",
      "\u001b[1m1/1\u001b[0m \u001b[32m━━━━━━━━━━━━━━━━━━━━\u001b[0m\u001b[37m\u001b[0m \u001b[1m0s\u001b[0m 250ms/step\n",
      "\u001b[1m1/1\u001b[0m \u001b[32m━━━━━━━━━━━━━━━━━━━━\u001b[0m\u001b[37m\u001b[0m \u001b[1m0s\u001b[0m 246ms/step\n",
      "\u001b[1m1/1\u001b[0m \u001b[32m━━━━━━━━━━━━━━━━━━━━\u001b[0m\u001b[37m\u001b[0m \u001b[1m0s\u001b[0m 234ms/step\n",
      "\u001b[1m1/1\u001b[0m \u001b[32m━━━━━━━━━━━━━━━━━━━━\u001b[0m\u001b[37m\u001b[0m \u001b[1m0s\u001b[0m 254ms/step\n",
      "\u001b[1m1/1\u001b[0m \u001b[32m━━━━━━━━━━━━━━━━━━━━\u001b[0m\u001b[37m\u001b[0m \u001b[1m0s\u001b[0m 254ms/step\n",
      "\u001b[1m1/1\u001b[0m \u001b[32m━━━━━━━━━━━━━━━━━━━━\u001b[0m\u001b[37m\u001b[0m \u001b[1m0s\u001b[0m 247ms/step\n",
      "\u001b[1m1/1\u001b[0m \u001b[32m━━━━━━━━━━━━━━━━━━━━\u001b[0m\u001b[37m\u001b[0m \u001b[1m0s\u001b[0m 245ms/step\n",
      "\u001b[1m1/1\u001b[0m \u001b[32m━━━━━━━━━━━━━━━━━━━━\u001b[0m\u001b[37m\u001b[0m \u001b[1m0s\u001b[0m 263ms/step\n",
      "\u001b[1m1/1\u001b[0m \u001b[32m━━━━━━━━━━━━━━━━━━━━\u001b[0m\u001b[37m\u001b[0m \u001b[1m0s\u001b[0m 243ms/step\n",
      "\u001b[1m1/1\u001b[0m \u001b[32m━━━━━━━━━━━━━━━━━━━━\u001b[0m\u001b[37m\u001b[0m \u001b[1m0s\u001b[0m 246ms/step\n",
      "\u001b[1m1/1\u001b[0m \u001b[32m━━━━━━━━━━━━━━━━━━━━\u001b[0m\u001b[37m\u001b[0m \u001b[1m0s\u001b[0m 235ms/step\n",
      "\u001b[1m1/1\u001b[0m \u001b[32m━━━━━━━━━━━━━━━━━━━━\u001b[0m\u001b[37m\u001b[0m \u001b[1m0s\u001b[0m 242ms/step\n",
      "\u001b[1m1/1\u001b[0m \u001b[32m━━━━━━━━━━━━━━━━━━━━\u001b[0m\u001b[37m\u001b[0m \u001b[1m0s\u001b[0m 243ms/step\n",
      "\u001b[1m1/1\u001b[0m \u001b[32m━━━━━━━━━━━━━━━━━━━━\u001b[0m\u001b[37m\u001b[0m \u001b[1m0s\u001b[0m 260ms/step\n",
      "\u001b[1m1/1\u001b[0m \u001b[32m━━━━━━━━━━━━━━━━━━━━\u001b[0m\u001b[37m\u001b[0m \u001b[1m0s\u001b[0m 268ms/step\n",
      "\u001b[1m1/1\u001b[0m \u001b[32m━━━━━━━━━━━━━━━━━━━━\u001b[0m\u001b[37m\u001b[0m \u001b[1m0s\u001b[0m 241ms/step\n",
      "\u001b[1m1/1\u001b[0m \u001b[32m━━━━━━━━━━━━━━━━━━━━\u001b[0m\u001b[37m\u001b[0m \u001b[1m0s\u001b[0m 246ms/step\n",
      "\u001b[1m1/1\u001b[0m \u001b[32m━━━━━━━━━━━━━━━━━━━━\u001b[0m\u001b[37m\u001b[0m \u001b[1m0s\u001b[0m 238ms/step\n",
      "\u001b[1m1/1\u001b[0m \u001b[32m━━━━━━━━━━━━━━━━━━━━\u001b[0m\u001b[37m\u001b[0m \u001b[1m0s\u001b[0m 251ms/step\n",
      "\u001b[1m1/1\u001b[0m \u001b[32m━━━━━━━━━━━━━━━━━━━━\u001b[0m\u001b[37m\u001b[0m \u001b[1m0s\u001b[0m 248ms/step\n",
      "\u001b[1m1/1\u001b[0m \u001b[32m━━━━━━━━━━━━━━━━━━━━\u001b[0m\u001b[37m\u001b[0m \u001b[1m0s\u001b[0m 256ms/step\n",
      "\u001b[1m1/1\u001b[0m \u001b[32m━━━━━━━━━━━━━━━━━━━━\u001b[0m\u001b[37m\u001b[0m \u001b[1m0s\u001b[0m 247ms/step\n",
      "\u001b[1m1/1\u001b[0m \u001b[32m━━━━━━━━━━━━━━━━━━━━\u001b[0m\u001b[37m\u001b[0m \u001b[1m0s\u001b[0m 244ms/step\n",
      "\u001b[1m1/1\u001b[0m \u001b[32m━━━━━━━━━━━━━━━━━━━━\u001b[0m\u001b[37m\u001b[0m \u001b[1m0s\u001b[0m 257ms/step\n",
      "\u001b[1m1/1\u001b[0m \u001b[32m━━━━━━━━━━━━━━━━━━━━\u001b[0m\u001b[37m\u001b[0m \u001b[1m0s\u001b[0m 258ms/step\n",
      "\u001b[1m1/1\u001b[0m \u001b[32m━━━━━━━━━━━━━━━━━━━━\u001b[0m\u001b[37m\u001b[0m \u001b[1m0s\u001b[0m 261ms/step\n",
      "\u001b[1m1/1\u001b[0m \u001b[32m━━━━━━━━━━━━━━━━━━━━\u001b[0m\u001b[37m\u001b[0m \u001b[1m0s\u001b[0m 239ms/step\n",
      "\u001b[1m1/1\u001b[0m \u001b[32m━━━━━━━━━━━━━━━━━━━━\u001b[0m\u001b[37m\u001b[0m \u001b[1m0s\u001b[0m 276ms/step\n",
      "\u001b[1m1/1\u001b[0m \u001b[32m━━━━━━━━━━━━━━━━━━━━\u001b[0m\u001b[37m\u001b[0m \u001b[1m0s\u001b[0m 243ms/step\n",
      "\u001b[1m1/1\u001b[0m \u001b[32m━━━━━━━━━━━━━━━━━━━━\u001b[0m\u001b[37m\u001b[0m \u001b[1m0s\u001b[0m 243ms/step\n",
      "\u001b[1m1/1\u001b[0m \u001b[32m━━━━━━━━━━━━━━━━━━━━\u001b[0m\u001b[37m\u001b[0m \u001b[1m0s\u001b[0m 237ms/step\n",
      "\u001b[1m1/1\u001b[0m \u001b[32m━━━━━━━━━━━━━━━━━━━━\u001b[0m\u001b[37m\u001b[0m \u001b[1m0s\u001b[0m 237ms/step\n",
      "\u001b[1m1/1\u001b[0m \u001b[32m━━━━━━━━━━━━━━━━━━━━\u001b[0m\u001b[37m\u001b[0m \u001b[1m0s\u001b[0m 248ms/step\n",
      "\u001b[1m1/1\u001b[0m \u001b[32m━━━━━━━━━━━━━━━━━━━━\u001b[0m\u001b[37m\u001b[0m \u001b[1m0s\u001b[0m 232ms/step\n",
      "\u001b[1m1/1\u001b[0m \u001b[32m━━━━━━━━━━━━━━━━━━━━\u001b[0m\u001b[37m\u001b[0m \u001b[1m0s\u001b[0m 269ms/step\n",
      "\u001b[1m1/1\u001b[0m \u001b[32m━━━━━━━━━━━━━━━━━━━━\u001b[0m\u001b[37m\u001b[0m \u001b[1m0s\u001b[0m 251ms/step\n",
      "\u001b[1m1/1\u001b[0m \u001b[32m━━━━━━━━━━━━━━━━━━━━\u001b[0m\u001b[37m\u001b[0m \u001b[1m0s\u001b[0m 245ms/step\n",
      "\u001b[1m1/1\u001b[0m \u001b[32m━━━━━━━━━━━━━━━━━━━━\u001b[0m\u001b[37m\u001b[0m \u001b[1m0s\u001b[0m 268ms/step\n",
      "\u001b[1m1/1\u001b[0m \u001b[32m━━━━━━━━━━━━━━━━━━━━\u001b[0m\u001b[37m\u001b[0m \u001b[1m0s\u001b[0m 251ms/step\n",
      "\u001b[1m1/1\u001b[0m \u001b[32m━━━━━━━━━━━━━━━━━━━━\u001b[0m\u001b[37m\u001b[0m \u001b[1m0s\u001b[0m 246ms/step\n",
      "\u001b[1m1/1\u001b[0m \u001b[32m━━━━━━━━━━━━━━━━━━━━\u001b[0m\u001b[37m\u001b[0m \u001b[1m0s\u001b[0m 274ms/step\n",
      "\u001b[1m1/1\u001b[0m \u001b[32m━━━━━━━━━━━━━━━━━━━━\u001b[0m\u001b[37m\u001b[0m \u001b[1m0s\u001b[0m 246ms/step\n",
      "\u001b[1m1/1\u001b[0m \u001b[32m━━━━━━━━━━━━━━━━━━━━\u001b[0m\u001b[37m\u001b[0m \u001b[1m0s\u001b[0m 237ms/step\n",
      "\u001b[1m1/1\u001b[0m \u001b[32m━━━━━━━━━━━━━━━━━━━━\u001b[0m\u001b[37m\u001b[0m \u001b[1m0s\u001b[0m 304ms/step\n",
      "\u001b[1m1/1\u001b[0m \u001b[32m━━━━━━━━━━━━━━━━━━━━\u001b[0m\u001b[37m\u001b[0m \u001b[1m0s\u001b[0m 239ms/step\n",
      "\u001b[1m1/1\u001b[0m \u001b[32m━━━━━━━━━━━━━━━━━━━━\u001b[0m\u001b[37m\u001b[0m \u001b[1m0s\u001b[0m 310ms/step\n",
      "\u001b[1m1/1\u001b[0m \u001b[32m━━━━━━━━━━━━━━━━━━━━\u001b[0m\u001b[37m\u001b[0m \u001b[1m0s\u001b[0m 265ms/step\n",
      "\u001b[1m1/1\u001b[0m \u001b[32m━━━━━━━━━━━━━━━━━━━━\u001b[0m\u001b[37m\u001b[0m \u001b[1m0s\u001b[0m 285ms/step\n",
      "\u001b[1m1/1\u001b[0m \u001b[32m━━━━━━━━━━━━━━━━━━━━\u001b[0m\u001b[37m\u001b[0m \u001b[1m0s\u001b[0m 272ms/step\n",
      "\u001b[1m1/1\u001b[0m \u001b[32m━━━━━━━━━━━━━━━━━━━━\u001b[0m\u001b[37m\u001b[0m \u001b[1m0s\u001b[0m 292ms/step\n",
      "\u001b[1m1/1\u001b[0m \u001b[32m━━━━━━━━━━━━━━━━━━━━\u001b[0m\u001b[37m\u001b[0m \u001b[1m0s\u001b[0m 259ms/step\n",
      "\u001b[1m1/1\u001b[0m \u001b[32m━━━━━━━━━━━━━━━━━━━━\u001b[0m\u001b[37m\u001b[0m \u001b[1m0s\u001b[0m 247ms/step\n",
      "\u001b[1m1/1\u001b[0m \u001b[32m━━━━━━━━━━━━━━━━━━━━\u001b[0m\u001b[37m\u001b[0m \u001b[1m0s\u001b[0m 255ms/step\n",
      "\u001b[1m1/1\u001b[0m \u001b[32m━━━━━━━━━━━━━━━━━━━━\u001b[0m\u001b[37m\u001b[0m \u001b[1m0s\u001b[0m 248ms/step\n"
     ]
    }
   ],
   "source": [
    "model = model_2\n",
    "\n",
    "cap = cv2.VideoCapture(0)\n",
    "\n",
    "while True:\n",
    "    ret, frame = cap.read()\n",
    "    if not ret:\n",
    "        break\n",
    "\n",
    "    orig_h, orig_w = frame.shape[:2]\n",
    "\n",
    "    # Предобработка изображения\n",
    "    resized = cv2.resize(frame, (224, 224))\n",
    "    input_tensor = resized.astype('float32') / 255.0\n",
    "    input_tensor = np.expand_dims(input_tensor, axis=0)  # (1, 224, 224, 3)\n",
    "\n",
    "    # Предсказание: модель вернёт (class_pred, bbox_pred)\n",
    "    class_pred, bbox_pred = model.predict(input_tensor)\n",
    "\n",
    "    # Обработка результатов (batch = 1)\n",
    "    class_score = class_pred[0][0]  # scalar (вероятность наличия объекта)\n",
    "    bbox = bbox_pred[0]             # [x_min, y_min, x_max, y_max] в нормализованных координатах\n",
    "\n",
    "    # Проверка уверенности\n",
    "    if class_score > 0.2:\n",
    "        x1 = int(bbox[0] * orig_w)\n",
    "        y1 = int(bbox[1] * orig_h)\n",
    "        x2 = int(bbox[2] * orig_w)\n",
    "        y2 = int(bbox[3] * orig_h)\n",
    "\n",
    "        # Рисуем рамку\n",
    "        cv2.rectangle(frame, (x1, y1), (x2, y2), (0, 255, 0), 2)\n",
    "        cv2.putText(frame, f\"{class_score:.2f}\", (x1, y1 - 10), \n",
    "                    cv2.FONT_HERSHEY_SIMPLEX, 0.6, (0, 255, 0), 2)\n",
    "\n",
    "    # Отображение окна\n",
    "    cv2.imshow('Face Detection', frame)\n",
    "\n",
    "    # Выход по клавише 'q'\n",
    "    if cv2.waitKey(1) & 0xFF == ord('q'):\n",
    "        break\n",
    "\n",
    "# Освобождение ресурсов\n",
    "cap.release()\n",
    "cv2.destroyAllWindows()"
   ]
  },
  {
   "cell_type": "code",
   "execution_count": 127,
   "id": "990ed86d-3983-4f73-9c1f-55c1de2933d5",
   "metadata": {},
   "outputs": [],
   "source": [
    "cap = cv2.VideoCapture(0)\n",
    "\n",
    "# Освобождение ресурсов\n",
    "cap.release()\n",
    "cv2.destroyAllWindows()"
   ]
  },
  {
   "cell_type": "code",
   "execution_count": 134,
   "id": "ac28b9e7-be32-4d9d-840a-a2f8433e0db4",
   "metadata": {},
   "outputs": [],
   "source": [
    "def show_predictions_on_images(model, images, true_bboxes=None, labels=None, num=5, image_size=(224, 224)):\n",
    "    \"\"\"\n",
    "    Показывает изображения с предсказанными bbox от модели и, опционально, реальными bbox и метками.\n",
    "    \"\"\"\n",
    "    for i in range(num):\n",
    "        img = images[i]\n",
    "        input_img = np.expand_dims(img, axis=0)\n",
    "\n",
    "        # Предсказание модели (ожидаем [bbox, class])\n",
    "        pred = model.predict(input_img, verbose=0)\n",
    "        if isinstance(pred, list) and len(pred) == 2:\n",
    "            pred_bbox = pred[0][0]  # Извлекаем bbox предсказание (1D массив длины 4)\n",
    "        else:\n",
    "            pred_bbox = pred[0]  # Если только bbox — используем как есть\n",
    "\n",
    "        pred_bbox = np.squeeze(pred_bbox)  # Убираем лишние размерности\n",
    "\n",
    "        # Подготовка изображения для отображения\n",
    "        img_disp = (img * 255).astype(np.uint8)\n",
    "        img_disp = cv2.cvtColor(img_disp, cv2.COLOR_RGB2BGR)\n",
    "\n",
    "        h, w = image_size\n",
    "\n",
    "        # Преобразуем нормализованные координаты в пиксели\n",
    "        x1_pred = int(pred_bbox[0] * w)\n",
    "        y1_pred = int(pred_bbox[1] * h)\n",
    "        x2_pred = int(pred_bbox[2] * w)\n",
    "        y2_pred = int(pred_bbox[3] * h)\n",
    "\n",
    "        # Рисуем предсказанный bbox (красный)\n",
    "        cv2.rectangle(img_disp, (x1_pred, y1_pred), (x2_pred, y2_pred), (0, 0, 255), 2)\n",
    "\n",
    "        # Реальный bbox (зелёный)\n",
    "        if true_bboxes is not None:\n",
    "            x1_true = int(true_bboxes[i][0] * w)\n",
    "            y1_true = int(true_bboxes[i][1] * h)\n",
    "            x2_true = int(true_bboxes[i][2] * w)\n",
    "            y2_true = int(true_bboxes[i][3] * h)\n",
    "            cv2.rectangle(img_disp, (x1_true, y1_true), (x2_true, y2_true), (0, 255, 0), 2)\n",
    "\n",
    "        # Метка класса (если есть)\n",
    "        if labels is not None:\n",
    "            label = str(labels[i])\n",
    "            cv2.putText(img_disp, f'Label: {label}', (10, 25),\n",
    "                        cv2.FONT_HERSHEY_SIMPLEX, 0.7, (255, 255, 0), 2)\n",
    "\n",
    "        # Показываем изображение\n",
    "        cv2.imshow(f'Prediction {i+1}', img_disp)\n",
    "        cv2.waitKey(0)\n",
    "        cv2.destroyAllWindows()"
   ]
  },
  {
   "cell_type": "code",
   "execution_count": 136,
   "id": "9aa66e82-2bf6-436d-83f4-b859d2cd069b",
   "metadata": {},
   "outputs": [],
   "source": [
    "show_predictions_on_images(model, train_images, train_bboxes, train_labels, num=10, image_size=(224, 224))"
   ]
  },
  {
   "cell_type": "code",
   "execution_count": null,
   "id": "b119178c-7cae-4940-b1b0-623f647ae00a",
   "metadata": {},
   "outputs": [],
   "source": []
  }
 ],
 "metadata": {
  "kernelspec": {
   "display_name": "Python 3 (ipykernel)",
   "language": "python",
   "name": "python3"
  },
  "language_info": {
   "codemirror_mode": {
    "name": "ipython",
    "version": 3
   },
   "file_extension": ".py",
   "mimetype": "text/x-python",
   "name": "python",
   "nbconvert_exporter": "python",
   "pygments_lexer": "ipython3",
   "version": "3.12.4"
  }
 },
 "nbformat": 4,
 "nbformat_minor": 5
}
